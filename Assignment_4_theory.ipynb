{
 "cells": [
  {
   "cell_type": "markdown",
   "id": "7b36edb7",
   "metadata": {},
   "source": [
    "# Assignment_4_theory"
   ]
  },
  {
   "cell_type": "markdown",
   "id": "001fc493",
   "metadata": {},
   "source": [
    "# 1.What exactly is [ ]?"
   ]
  },
  {
   "cell_type": "markdown",
   "id": "8c1d6b53",
   "metadata": {},
   "source": [
    "Answer: The empty list represented by [] is a list that contains no item."
   ]
  },
  {
   "cell_type": "markdown",
   "id": "1033f747",
   "metadata": {},
   "source": [
    "# 2.In a list of values stored in a variable called spam, how would you assign the value 'hello' as the third value? (Assume [2, 4, 6, 8, 10] are in spam.)"
   ]
  },
  {
   "cell_type": "code",
   "execution_count": 5,
   "id": "afd6ff32",
   "metadata": {},
   "outputs": [
    {
     "name": "stdout",
     "output_type": "stream",
     "text": [
      "[2, 4, 6, 8, 10]\n"
     ]
    }
   ],
   "source": [
    "spam=[2,4,6,8,10]\n",
    "print(spam)"
   ]
  },
  {
   "cell_type": "code",
   "execution_count": 3,
   "id": "d5b853ff",
   "metadata": {},
   "outputs": [],
   "source": [
    "spam[2]='Hello'"
   ]
  },
  {
   "cell_type": "code",
   "execution_count": 4,
   "id": "84623a83",
   "metadata": {},
   "outputs": [
    {
     "data": {
      "text/plain": [
       "[2, 4, 'Hello', 8, 10]"
      ]
     },
     "execution_count": 4,
     "metadata": {},
     "output_type": "execute_result"
    }
   ],
   "source": [
    "spam"
   ]
  },
  {
   "cell_type": "markdown",
   "id": "6882c0bd",
   "metadata": {},
   "source": [
    "# 3. What is the value of spam[int(int('3'*2)//11)] ?"
   ]
  },
  {
   "cell_type": "code",
   "execution_count": 6,
   "id": "d0aafd87",
   "metadata": {},
   "outputs": [
    {
     "data": {
      "text/plain": [
       "'d'"
      ]
     },
     "execution_count": 6,
     "metadata": {},
     "output_type": "execute_result"
    }
   ],
   "source": [
    "spam=['a','b','c','d']\n",
    "spam[int(int('3'*2)//11)]"
   ]
  },
  {
   "cell_type": "markdown",
   "id": "e9901615",
   "metadata": {},
   "source": [
    "# 4.What is the value of spam[-1]?"
   ]
  },
  {
   "cell_type": "code",
   "execution_count": 7,
   "id": "73fe19ac",
   "metadata": {},
   "outputs": [
    {
     "data": {
      "text/plain": [
       "'d'"
      ]
     },
     "execution_count": 7,
     "metadata": {},
     "output_type": "execute_result"
    }
   ],
   "source": [
    "spam[-1]"
   ]
  },
  {
   "cell_type": "markdown",
   "id": "e5208551",
   "metadata": {},
   "source": [
    "# 5. What is the value of spam[:2]?"
   ]
  },
  {
   "cell_type": "code",
   "execution_count": 8,
   "id": "65362fcc",
   "metadata": {},
   "outputs": [
    {
     "data": {
      "text/plain": [
       "['a', 'b']"
      ]
     },
     "execution_count": 8,
     "metadata": {},
     "output_type": "execute_result"
    }
   ],
   "source": [
    "spam[:2]"
   ]
  },
  {
   "cell_type": "markdown",
   "id": "bf977df6",
   "metadata": {},
   "source": [
    "# Let's pretend bacon has the list [3.14,'cat',11,'cat',True] for the next three question"
   ]
  },
  {
   "cell_type": "markdown",
   "id": "07629abd",
   "metadata": {},
   "source": [
    "# 6. What is the value of bacon.index('cat')?"
   ]
  },
  {
   "cell_type": "code",
   "execution_count": 9,
   "id": "efc2b730",
   "metadata": {},
   "outputs": [
    {
     "data": {
      "text/plain": [
       "1"
      ]
     },
     "execution_count": 9,
     "metadata": {},
     "output_type": "execute_result"
    }
   ],
   "source": [
    "bacon=[3.14,'cat',11,'cat',True]\n",
    "bacon.index('cat')"
   ]
  },
  {
   "cell_type": "markdown",
   "id": "c79016aa",
   "metadata": {},
   "source": [
    "# 7. How does bacon.append(99) change the look of the list value in bacon?"
   ]
  },
  {
   "cell_type": "code",
   "execution_count": 10,
   "id": "6b4f79e3",
   "metadata": {},
   "outputs": [],
   "source": [
    "bacon.append(99) //its append to the end of the list"
   ]
  },
  {
   "cell_type": "code",
   "execution_count": 11,
   "id": "fb7c3ced",
   "metadata": {},
   "outputs": [
    {
     "data": {
      "text/plain": [
       "[3.14, 'cat', 11, 'cat', True, 99]"
      ]
     },
     "execution_count": 11,
     "metadata": {},
     "output_type": "execute_result"
    }
   ],
   "source": [
    "bacon"
   ]
  },
  {
   "cell_type": "markdown",
   "id": "04dc9d94",
   "metadata": {},
   "source": [
    "# 8. How does bacon.remove('cat') change the look of the list in bacon?"
   ]
  },
  {
   "cell_type": "code",
   "execution_count": 12,
   "id": "a64e0eeb",
   "metadata": {},
   "outputs": [
    {
     "name": "stdout",
     "output_type": "stream",
     "text": [
      "[3.14, 11, 'cat', True, 99]\n"
     ]
    }
   ],
   "source": [
    "bacon.remove('cat')\n",
    "print(bacon) "
   ]
  },
  {
   "cell_type": "markdown",
   "id": "5c61972b",
   "metadata": {},
   "source": [
    "# 9.what are the list concatenation and list replication operations?"
   ]
  },
  {
   "cell_type": "code",
   "execution_count": 8,
   "id": "5f13f828",
   "metadata": {},
   "outputs": [
    {
     "name": "stdout",
     "output_type": "stream",
     "text": [
      "['Md', 'Faiz', 'Khan', 'Msds', 'data sciene']\n",
      "['Msds', 'data sciene', 'Msds', 'data sciene']\n"
     ]
    }
   ],
   "source": [
    "list_1 = [\"Md\",\"Faiz\",\"Khan\"]\n",
    "list_2 = [\"Msds\",\"data sciene\"]\n",
    "print(list_1 + list_2) # List Concatenation\n",
    "print(list_2*2) # List Replication"
   ]
  },
  {
   "cell_type": "markdown",
   "id": "a473be73",
   "metadata": {},
   "source": [
    "\n",
    "# 10. What is difference between the list methods append() and insert()?\n",
    "Append() is used adding the value in the last and in Insert() we can add the data every in the list "
   ]
  },
  {
   "cell_type": "code",
   "execution_count": 9,
   "id": "5bcb886f",
   "metadata": {},
   "outputs": [
    {
     "name": "stdout",
     "output_type": "stream",
     "text": [
      "[1, 2, 3, 4, 5, 6, 7, 8, 9]\n",
      "[1, 2, 3, 4, 5, 6, 7, 'hello', 8, 9]\n"
     ]
    }
   ],
   "source": [
    "list=[1,2,3,4,5,6,7,8]\n",
    "list.append(9)\n",
    "print(list)\n",
    "list.insert(7,\"hello\")\n",
    "print(list)"
   ]
  },
  {
   "cell_type": "markdown",
   "id": "7f56a889",
   "metadata": {},
   "source": [
    "# 11. What are the two methods for removing items from a list?\n",
    "There are various method to remove elements from the list   \n",
    "\n",
    "1)remove(): by using remove method we can remove the element from the list                       \n",
    "2)del : By using del method we can remove the element with using index value\n",
    "\n",
    "3)pop : By using Pop method we can remove the element using index value"
   ]
  },
  {
   "cell_type": "code",
   "execution_count": 19,
   "id": "3934de69",
   "metadata": {},
   "outputs": [
    {
     "name": "stdout",
     "output_type": "stream",
     "text": [
      "Full list [1, 2, 3, 4, 5, 6, 7, 8, 9]\n",
      "After removing 1  [2, 3, 4, 5, 6, 7, 8, 9]\n",
      "After removing 3rd index i'e 5 [2, 3, 4, 6, 7, 8, 9]\n",
      "After deleting 4rth index i'e 7  [2, 3, 4, 6, 8, 9]\n"
     ]
    }
   ],
   "source": [
    "list=[1,2,3,4,5,6,7,8,9]\n",
    "print(\"Full list\",list)\n",
    "list.remove(1)\n",
    "print(\"After removing 1 \",list)\n",
    "list.pop(3) # 3rd index\n",
    "print(\"After removing 3rd index i'e 5\",list)\n",
    "del list[4]\n",
    "print(\"After deleting 4rth index i'e 7 \",list)"
   ]
  },
  {
   "cell_type": "markdown",
   "id": "0b2b1a8b",
   "metadata": {},
   "source": [
    "# 12. Describe how list values and string values are identical.\n",
    "\n",
    "Both lists and strings can be passed to len() function, have indexes and slices, be used in for loops, be concatenated or replicated, and be used with the in and not in operators."
   ]
  },
  {
   "cell_type": "markdown",
   "id": "b0952268",
   "metadata": {},
   "source": [
    "# 13. What's the difference between tuples and lists?\n",
    "\n",
    "List and Tuples both are same like both can take any value hetrogenius data character,string,integer everything but the main difference is that in list we can change the data by using index value but in tuples we can't that's why list are MUTABLE and tuples are IMMUTABLE and we are using square bracets [] in list and tuples uses paranthesis ()"
   ]
  },
  {
   "cell_type": "markdown",
   "id": "4c94b3da",
   "metadata": {},
   "source": [
    "# 14. How do you type a tuple value that only contains the integer 42?\n",
    "\n",
    "If we assign any value to the tuple and check type it will show integer and if assign value with follow trailling commas (42,) then it will give type tuple i have mentioned examples below code"
   ]
  },
  {
   "cell_type": "code",
   "execution_count": 30,
   "id": "b8bddfc4",
   "metadata": {},
   "outputs": [
    {
     "name": "stdout",
     "output_type": "stream",
     "text": [
      "<class 'int'>\n",
      "<class 'tuple'>\n"
     ]
    }
   ],
   "source": [
    "t=(42,)\n",
    "t1=(42)\n",
    "print(type(t1))\n",
    "print(type(t))"
   ]
  },
  {
   "cell_type": "markdown",
   "id": "82c11c8c",
   "metadata": {},
   "source": [
    "# 15. How do you get a list value's tuple form? How do you get a tuple value's list form?\n",
    "\n",
    "The tuple() and list() functions, respectively are used to convert a list to tuple and vice versa"
   ]
  },
  {
   "cell_type": "markdown",
   "id": "39d9cf2a",
   "metadata": {},
   "source": [
    "# 16. Variables that contain list values are not necessarily lists themselves. Instead, what do they contain?\n",
    "\n",
    "They can contain references of list"
   ]
  },
  {
   "cell_type": "markdown",
   "id": "f7dfaa23",
   "metadata": {},
   "source": [
    "# 17. How do you distinguish between copy.copy() and copy.deepcopy()?\n",
    "Ans: The copy.copy() function will do a shallow copy of a list, \n",
    "while the copy.deepcopy() function will do a deep copy of a list. That is, only copy.deepcopy() will duplicate any lists inside the list."
   ]
  },
  {
   "cell_type": "code",
   "execution_count": null,
   "id": "9e921dbf",
   "metadata": {},
   "outputs": [],
   "source": []
  }
 ],
 "metadata": {
  "kernelspec": {
   "display_name": "Python 3 (ipykernel)",
   "language": "python",
   "name": "python3"
  },
  "language_info": {
   "codemirror_mode": {
    "name": "ipython",
    "version": 3
   },
   "file_extension": ".py",
   "mimetype": "text/x-python",
   "name": "python",
   "nbconvert_exporter": "python",
   "pygments_lexer": "ipython3",
   "version": "3.9.7"
  }
 },
 "nbformat": 4,
 "nbformat_minor": 5
}
