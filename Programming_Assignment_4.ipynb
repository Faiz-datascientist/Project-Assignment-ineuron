{
 "cells": [
  {
   "cell_type": "markdown",
   "id": "6987a2e5",
   "metadata": {},
   "source": [
    "# 1. Write a Python Program to Find the Factorial of a Number?"
   ]
  },
  {
   "cell_type": "code",
   "execution_count": 14,
   "id": "ca9fc32a",
   "metadata": {
    "scrolled": true
   },
   "outputs": [
    {
     "name": "stdout",
     "output_type": "stream",
     "text": [
      "Enter the number: 5\n",
      "120\n"
     ]
    }
   ],
   "source": [
    "def fact(n):\n",
    "    f=1\n",
    "    for i in range(1,n+1):\n",
    "        f=f*i\n",
    "    print(f)\n",
    "    \n",
    "    \n",
    "n=int(input(\"Enter the number: \"))\n",
    "if n==0:\n",
    "    print(\"1\")\n",
    "else:\n",
    "    fact(n)   "
   ]
  },
  {
   "cell_type": "markdown",
   "id": "c79923f3",
   "metadata": {},
   "source": [
    "# 2. Write a Python Program to Display the multiplication Table?"
   ]
  },
  {
   "cell_type": "code",
   "execution_count": 27,
   "id": "3c758e8a",
   "metadata": {},
   "outputs": [
    {
     "name": "stdout",
     "output_type": "stream",
     "text": [
      "Enter the range of the table: 5\n",
      "Table of till 5 is below\n",
      "1 * 1 = 1\n",
      "1 * 2 = 2\n",
      "1 * 3 = 3\n",
      "1 * 4 = 4\n",
      "1 * 5 = 5\n",
      "1 * 6 = 6\n",
      "1 * 7 = 7\n",
      "1 * 8 = 8\n",
      "1 * 9 = 9\n",
      "1 * 10 = 10\n",
      "2 * 1 = 2\n",
      "2 * 2 = 4\n",
      "2 * 3 = 6\n",
      "2 * 4 = 8\n",
      "2 * 5 = 10\n",
      "2 * 6 = 12\n",
      "2 * 7 = 14\n",
      "2 * 8 = 16\n",
      "2 * 9 = 18\n",
      "2 * 10 = 20\n",
      "3 * 1 = 3\n",
      "3 * 2 = 6\n",
      "3 * 3 = 9\n",
      "3 * 4 = 12\n",
      "3 * 5 = 15\n",
      "3 * 6 = 18\n",
      "3 * 7 = 21\n",
      "3 * 8 = 24\n",
      "3 * 9 = 27\n",
      "3 * 10 = 30\n",
      "4 * 1 = 4\n",
      "4 * 2 = 8\n",
      "4 * 3 = 12\n",
      "4 * 4 = 16\n",
      "4 * 5 = 20\n",
      "4 * 6 = 24\n",
      "4 * 7 = 28\n",
      "4 * 8 = 32\n",
      "4 * 9 = 36\n",
      "4 * 10 = 40\n",
      "5 * 1 = 5\n",
      "5 * 2 = 10\n",
      "5 * 3 = 15\n",
      "5 * 4 = 20\n",
      "5 * 5 = 25\n",
      "5 * 6 = 30\n",
      "5 * 7 = 35\n",
      "5 * 8 = 40\n",
      "5 * 9 = 45\n",
      "5 * 10 = 50\n"
     ]
    }
   ],
   "source": [
    "n=int(input(\"Enter the range of the table: \"))\n",
    "print(\"Table of till\",n,\"is below\")\n",
    "for i in range(1,n+1):\n",
    "    for j in range(1,11):\n",
    "        multi=i*j\n",
    "        print(i,\"*\",j,\"=\",multi)\n",
    "        "
   ]
  },
  {
   "cell_type": "markdown",
   "id": "bed1dad1",
   "metadata": {},
   "source": [
    "# 3. Write a Python Program to Print the Fibonacci sequence?"
   ]
  },
  {
   "cell_type": "code",
   "execution_count": 11,
   "id": "53b4a664",
   "metadata": {},
   "outputs": [
    {
     "name": "stdout",
     "output_type": "stream",
     "text": [
      "Enter the range of the number: 6\n",
      "Range is:  6\n",
      "0 1 1 2 3 5 "
     ]
    }
   ],
   "source": [
    "def fib(n):\n",
    "    a=0\n",
    "    b=1\n",
    "    print(a,b,end=' ')\n",
    "    for i in range(2,n):\n",
    "        c=a+b\n",
    "        a=b\n",
    "        b=c\n",
    "        print(c,end=' ')\n",
    "        \n",
    "x=int(input(\"Enter the range of the number: \"))\n",
    "print(\"Range is: \",x)\n",
    "fib(x)"
   ]
  },
  {
   "cell_type": "markdown",
   "id": "a05ddd33",
   "metadata": {},
   "source": [
    "# 4. Write a Python Program to Check Armstrong Number?"
   ]
  },
  {
   "cell_type": "code",
   "execution_count": 11,
   "id": "8f729f4e",
   "metadata": {},
   "outputs": [
    {
     "name": "stdout",
     "output_type": "stream",
     "text": [
      "enter the Range: 153\n",
      "Number is Armstrong\n"
     ]
    }
   ],
   "source": [
    "def Armstrong(n):\n",
    "    x=n\n",
    "    sum=0\n",
    "    r=0\n",
    "    while(x!=0):\n",
    "        r=x%10\n",
    "        sum=sum+(r*r*r)\n",
    "        x=x//10\n",
    "    if(sum==n):\n",
    "        return 1\n",
    "    else:\n",
    "        return 0  \n",
    "    \n",
    "n=int(input(\"enter the Range: \"))\n",
    "x=Armstrong(n)\n",
    "\n",
    "if (x==1):\n",
    "    print(\"Number is Armstrong\")\n",
    "else:\n",
    "    print(\"Number is not Armstrong\")"
   ]
  },
  {
   "cell_type": "markdown",
   "id": "8ccd9a12",
   "metadata": {},
   "source": [
    "# 5. Write a Python Program to Find Armstrong Number in an Interval?"
   ]
  },
  {
   "cell_type": "code",
   "execution_count": 34,
   "id": "d92971d1",
   "metadata": {},
   "outputs": [
    {
     "name": "stdout",
     "output_type": "stream",
     "text": [
      "Enter the range: 1000\n",
      "Armstrong List are:  [0, 1, 153, 370, 371, 407]\n"
     ]
    }
   ],
   "source": [
    "n=int(input(\"Enter the range: \"))\n",
    "L=[]\n",
    "for i in range(0,n+1):\n",
    "    x=i\n",
    "    sum=0\n",
    "    while(x!=0):\n",
    "        r=x%10\n",
    "        sum=sum + (r*r*r)\n",
    "        x=x//10\n",
    "    if(sum==i):\n",
    "        L.append(i)\n",
    "print(\"Armstrong List are: \",L)  "
   ]
  },
  {
   "cell_type": "markdown",
   "id": "6e0ce512",
   "metadata": {},
   "source": [
    "# 6. Write a Python Program to Find the Sum of Natural Numbers?"
   ]
  },
  {
   "cell_type": "code",
   "execution_count": 42,
   "id": "fbb183d5",
   "metadata": {},
   "outputs": [
    {
     "name": "stdout",
     "output_type": "stream",
     "text": [
      "Enter the number: 10\n",
      "55\n"
     ]
    }
   ],
   "source": [
    "n=int(input(\"Enter the number: \"))\n",
    "sum=0\n",
    "for i in range(1,n+1):\n",
    "    sum=sum+i\n",
    "print(sum)"
   ]
  },
  {
   "cell_type": "code",
   "execution_count": null,
   "id": "3558e97d",
   "metadata": {},
   "outputs": [],
   "source": []
  }
 ],
 "metadata": {
  "kernelspec": {
   "display_name": "Python 3 (ipykernel)",
   "language": "python",
   "name": "python3"
  },
  "language_info": {
   "codemirror_mode": {
    "name": "ipython",
    "version": 3
   },
   "file_extension": ".py",
   "mimetype": "text/x-python",
   "name": "python",
   "nbconvert_exporter": "python",
   "pygments_lexer": "ipython3",
   "version": "3.9.7"
  }
 },
 "nbformat": 4,
 "nbformat_minor": 5
}
