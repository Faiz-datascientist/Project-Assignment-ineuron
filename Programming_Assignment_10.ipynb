{
 "cells": [
  {
   "cell_type": "markdown",
   "id": "6011bf5e",
   "metadata": {},
   "source": [
    "# 1. Write a Python program to find sum of elements in list?"
   ]
  },
  {
   "cell_type": "code",
   "execution_count": 11,
   "id": "a3d3c0c3",
   "metadata": {},
   "outputs": [
    {
     "name": "stdout",
     "output_type": "stream",
     "text": [
      "15\n",
      "None\n"
     ]
    }
   ],
   "source": [
    "def elements(li):\n",
    "    sum=0\n",
    "    for i in list:\n",
    "        sum=sum+i\n",
    "    print(sum)\n",
    "    \n",
    "li=[1,2,3,34,4,5,6,7,7]   \n",
    "print(elements(li))"
   ]
  },
  {
   "cell_type": "markdown",
   "id": "7d465174",
   "metadata": {},
   "source": [
    "# 2. Write a Python program to Multiply all numbers in the list?"
   ]
  },
  {
   "cell_type": "code",
   "execution_count": 9,
   "id": "c2524ad6",
   "metadata": {},
   "outputs": [
    {
     "name": "stdout",
     "output_type": "stream",
     "text": [
      "120\n"
     ]
    }
   ],
   "source": [
    "def multiply(list):\n",
    "    sum=1\n",
    "    for i in list:\n",
    "        sum=sum*i\n",
    "    print(sum)\n",
    "    \n",
    "list=[1,2,3,4,5]    \n",
    "multiply(list)"
   ]
  },
  {
   "cell_type": "markdown",
   "id": "437bb3b3",
   "metadata": {},
   "source": [
    "# 3.Write a Python Program to find smallest number in the list ?"
   ]
  },
  {
   "cell_type": "code",
   "execution_count": 14,
   "id": "2fb97818",
   "metadata": {},
   "outputs": [
    {
     "name": "stdout",
     "output_type": "stream",
     "text": [
      "Enter the range:4\n",
      "Enter a Element: 1\n",
      "Enter a Element: 2\n",
      "Enter a Element: 3\n",
      "Enter a Element: 4\n",
      "The Smallest Element in [1, 2, 3, 4] is 1\n"
     ]
    }
   ],
   "source": [
    "def smallest():\n",
    "    ele = int(input('Enter the range:'))\n",
    "    lis = []\n",
    "    for i in range(ele):\n",
    "        lis.append(int(input('Enter a Element: ')))\n",
    "    print(f'The Smallest Element in {lis} is {sorted(lis)[0]}')\n",
    "smallest()"
   ]
  },
  {
   "cell_type": "markdown",
   "id": "27c7007f",
   "metadata": {},
   "source": [
    "# 4.Write a Python Program to find largest number in the list ?"
   ]
  },
  {
   "cell_type": "code",
   "execution_count": 16,
   "id": "fe60c5fe",
   "metadata": {},
   "outputs": [
    {
     "name": "stdout",
     "output_type": "stream",
     "text": [
      "Enter range: 3\n",
      "Enter a Element: 1\n",
      "Enter a Element: 2\n",
      "Enter a Element: 3\n",
      "The Largest Element in [1, 2, 3] is 3\n"
     ]
    }
   ],
   "source": [
    "def largest():\n",
    "    in_ele = int(input('Enter range: '))\n",
    "    in_list = []\n",
    "    for ele in range(in_ele):\n",
    "        in_list.append(int(input('Enter a Element: ')))\n",
    "    print(f'The Largest Element in {in_list} is {sorted(in_list, reverse=True)[0]}')\n",
    "\n",
    "largest()"
   ]
  },
  {
   "cell_type": "markdown",
   "id": "1dee8a60",
   "metadata": {},
   "source": [
    "# 5.Write a Python Program to find second largest number in the list ?"
   ]
  },
  {
   "cell_type": "code",
   "execution_count": 17,
   "id": "953a0c91",
   "metadata": {},
   "outputs": [
    {
     "name": "stdout",
     "output_type": "stream",
     "text": [
      "Enter the range: 5\n",
      "Enter a Element: 1\n",
      "Enter a Element: 2\n",
      "Enter a Element: 3\n",
      "Enter a Element: 4\n",
      "Enter a Element: 5\n",
      "The Second Largest Element in [1, 2, 3, 4, 5] is 4\n"
     ]
    }
   ],
   "source": [
    "def secondLargest():\n",
    "    in_ele = int(input('Enter the range: '))\n",
    "    in_list = []\n",
    "    for ele in range(in_ele):\n",
    "        in_list.append(int(input('Enter a Element: ')))\n",
    "    print(f'The Second Largest Element in {in_list} is {sorted(in_list, reverse=True)[1]}')\n",
    "\n",
    "secondLargest()"
   ]
  },
  {
   "cell_type": "code",
   "execution_count": null,
   "id": "c26d71cf",
   "metadata": {},
   "outputs": [],
   "source": []
  }
 ],
 "metadata": {
  "kernelspec": {
   "display_name": "Python 3 (ipykernel)",
   "language": "python",
   "name": "python3"
  },
  "language_info": {
   "codemirror_mode": {
    "name": "ipython",
    "version": 3
   },
   "file_extension": ".py",
   "mimetype": "text/x-python",
   "name": "python",
   "nbconvert_exporter": "python",
   "pygments_lexer": "ipython3",
   "version": "3.9.7"
  }
 },
 "nbformat": 4,
 "nbformat_minor": 5
}
