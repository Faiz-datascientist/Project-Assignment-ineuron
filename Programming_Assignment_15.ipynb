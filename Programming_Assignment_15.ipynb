{
 "cells": [
  {
   "cell_type": "markdown",
   "id": "04aed590",
   "metadata": {},
   "source": [
    "# Question 1:\n",
    "Please write a program using generator to print the numbers which can be divisible by 5 and\n",
    "7 between 0 and n in comma separated form while n is input by console.\n",
    "Example:\n",
    "    \n",
    "If the following n is given as input to the program:\n",
    "100\n",
    "\n",
    "Then, the output of the program should be:\n",
    "0,35,70"
   ]
  },
  {
   "cell_type": "code",
   "execution_count": 8,
   "id": "8c6584b5",
   "metadata": {},
   "outputs": [
    {
     "name": "stdout",
     "output_type": "stream",
     "text": [
      "Enter number 100\n",
      "[0, 35, 70]\n"
     ]
    }
   ],
   "source": [
    "def divisible(n):\n",
    "    pack=[]\n",
    "    for i in range(0,n+1):\n",
    "        if i%5==0 and i%7==0:\n",
    "            pack.append(i)\n",
    "        \n",
    "    return pack\n",
    "\n",
    "a=divisible(int(input(\"Enter number \")))\n",
    "print(a) "
   ]
  },
  {
   "cell_type": "markdown",
   "id": "4e421f72",
   "metadata": {},
   "source": [
    "# Question 2: \n",
    "Please write a program using generator to print the even numbers between 0 and n in comma\n",
    "separated form while n is input by console.\n",
    "Example:\n",
    "\n",
    "If the following n is given as input to the program:\n",
    "10\n",
    "\n",
    "Then, the output of the program should be:\n",
    "0,2,4,6,8,10"
   ]
  },
  {
   "cell_type": "code",
   "execution_count": 10,
   "id": "fa4c9fcd",
   "metadata": {},
   "outputs": [
    {
     "name": "stdout",
     "output_type": "stream",
     "text": [
      "Enter number : 10\n",
      "[0, 2, 4, 6, 8, 10]\n"
     ]
    }
   ],
   "source": [
    "def even(n):\n",
    "    even_=[]\n",
    "    for i in range(n+1):\n",
    "        if i%2==0:\n",
    "            even_.append(i)\n",
    "            \n",
    "    return even_\n",
    "\n",
    "a=even(int(input(\"Enter number : \")))\n",
    "print(a)\n",
    "            \n",
    "        "
   ]
  },
  {
   "cell_type": "markdown",
   "id": "64c67965",
   "metadata": {},
   "source": [
    "# Question 3:\n",
    "The Fibonacci Sequence is computed based on the following formula:\n",
    "\n",
    "f(n)=0 if n=0\n",
    "\n",
    "f(n)=1 if n=1\n",
    "\n",
    "f(n)=f(n-1)+f(n-2) if n&gt;1\n",
    "\n",
    "Please write a program using list comprehension to print the Fibonacci Sequence in comma\n",
    "separated form with a given n input by console.\n",
    "\n",
    "Example:\n",
    "If the following n is given as input to the program:"
   ]
  },
  {
   "cell_type": "code",
   "execution_count": 18,
   "id": "edda2441",
   "metadata": {},
   "outputs": [
    {
     "name": "stdout",
     "output_type": "stream",
     "text": [
      "[0, 1, 1, 2, 3, 5, 8]\n"
     ]
    }
   ],
   "source": [
    "def fibo(n):\n",
    "    for i in range(n+1):\n",
    "        if n == 0:\n",
    "            return 0\n",
    "        elif n == 1:\n",
    "            return 1\n",
    "        else:\n",
    "            return fibo(n-1)+fibo(n-2)\n",
    "        \n",
    "print([fibo(x) for x in range(7)])"
   ]
  },
  {
   "cell_type": "markdown",
   "id": "6449c3f9",
   "metadata": {},
   "source": [
    "# Q4. \n",
    "Assuming that we have some email addresses in the &quot;username@companyname.com&quot; format,\n",
    "please write program to print the user name of a given email address. Both user names and\n",
    "company names are composed of letters only.\n",
    "\n",
    "Example:\n",
    "\n",
    "If the following email address is given as input to the program:\n",
    "john@google.com\n",
    "Then, the output of the program should be:\n",
    "john"
   ]
  },
  {
   "cell_type": "code",
   "execution_count": 22,
   "id": "1111a742",
   "metadata": {},
   "outputs": [
    {
     "name": "stdout",
     "output_type": "stream",
     "text": [
      "Enter Email Address(es): Faizkhan9965@gmail.com\n",
      "Username of Faizkhan9965@gmail.com is Faizkhan9965\n",
      "Enter Email Address(es): samkhan@gmail.com\n",
      "Username of samkhan@gmail.com is samkhan\n",
      "Enter Email Address(es): khansaif@gmail.com\n",
      "Username of khansaif@gmail.com is khansaif\n"
     ]
    }
   ],
   "source": [
    "def username():\n",
    "    inn = input('Enter Email Address(es): ')\n",
    "    outt = inn.split('@')\n",
    "    print(f'Username of {inn} is {outt[0]}')\n",
    "\n",
    "for i in range(3):\n",
    "    username()"
   ]
  },
  {
   "cell_type": "markdown",
   "id": "6342624c",
   "metadata": {},
   "source": [
    "# 5.Define a class named Shape and its subclass Square. The Square class has an init function which takes a length as argument. Both classes have a area function which can print the area of the shape where Shape's area is 0 by default."
   ]
  },
  {
   "cell_type": "code",
   "execution_count": 26,
   "id": "11925b5b",
   "metadata": {},
   "outputs": [
    {
     "name": "stdout",
     "output_type": "stream",
     "text": [
      "area:  900\n"
     ]
    }
   ],
   "source": [
    "class shape:\n",
    "    def area(self):\n",
    "        return 0\n",
    "\n",
    "class square(shape):\n",
    "    def __init__(self, length):\n",
    "        self.length = length\n",
    "    def area(self):\n",
    "        return self.length*self.length\n",
    "\n",
    "square = square(30)\n",
    "print(\"area: \",square.area())"
   ]
  },
  {
   "cell_type": "code",
   "execution_count": null,
   "id": "2e33b5df",
   "metadata": {},
   "outputs": [],
   "source": []
  }
 ],
 "metadata": {
  "kernelspec": {
   "display_name": "Python 3 (ipykernel)",
   "language": "python",
   "name": "python3"
  },
  "language_info": {
   "codemirror_mode": {
    "name": "ipython",
    "version": 3
   },
   "file_extension": ".py",
   "mimetype": "text/x-python",
   "name": "python",
   "nbconvert_exporter": "python",
   "pygments_lexer": "ipython3",
   "version": "3.9.7"
  }
 },
 "nbformat": 4,
 "nbformat_minor": 5
}
