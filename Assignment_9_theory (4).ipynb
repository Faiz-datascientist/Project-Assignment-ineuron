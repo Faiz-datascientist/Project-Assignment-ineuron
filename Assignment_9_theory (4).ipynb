{
 "cells": [
  {
   "cell_type": "markdown",
   "id": "ba3666f5",
   "metadata": {},
   "source": [
    "# 1.To what does a relative path refer ?"
   ]
  },
  {
   "cell_type": "markdown",
   "id": "394c4c46",
   "metadata": {},
   "source": [
    "Ans: The relative path is the path of files with respect to our current file directory"
   ]
  },
  {
   "cell_type": "markdown",
   "id": "bf4bb0ad",
   "metadata": {},
   "source": [
    "# 2.Where does an absolute path start with your Operating System ?"
   ]
  },
  {
   "cell_type": "markdown",
   "id": "408b1bfd",
   "metadata": {},
   "source": [
    "In windows it starts with C: and in linux it starts with /."
   ]
  },
  {
   "cell_type": "markdown",
   "id": "cd0b53be",
   "metadata": {},
   "source": [
    "# 3.What does the functions os.getcwd() and os.chdir() do ?"
   ]
  },
  {
   "cell_type": "markdown",
   "id": "27e2d2f2",
   "metadata": {},
   "source": [
    "os.getcwd() : It tells the current work directory whereas os.chdir() : it used to chnage the current work directry with specfied path"
   ]
  },
  {
   "cell_type": "markdown",
   "id": "bdd6acea",
   "metadata": {},
   "source": [
    "# 4.What are . and .. folders ?"
   ]
  },
  {
   "cell_type": "markdown",
   "id": "7b1d9fe0",
   "metadata": {},
   "source": [
    " '.' Represents the Current Directory Whereas '..' Represents the Parent Directory of the Current Directory"
   ]
  },
  {
   "cell_type": "markdown",
   "id": "da66bef9",
   "metadata": {},
   "source": [
    "# 5.In C:\\bacon\\eggs\\spam.txt which part is the dir name and which part is the base name ?"
   ]
  },
  {
   "cell_type": "markdown",
   "id": "51aa7787",
   "metadata": {},
   "source": [
    "For C:\\bacon\\eggs\\spam.txt\n",
    "dir name is C:\\\\bacon\\\\eggs\n",
    "Base name is spam.txt"
   ]
  },
  {
   "cell_type": "markdown",
   "id": "7ef71c39",
   "metadata": {},
   "source": [
    "# 6.What are the three mode arguments that can be passed to the open() function ?"
   ]
  },
  {
   "cell_type": "markdown",
   "id": "ba6f517e",
   "metadata": {},
   "source": [
    "'r','w','r+','a','a+' these can be used with open funtion"
   ]
  },
  {
   "cell_type": "markdown",
   "id": "a1c3f63d",
   "metadata": {},
   "source": [
    "# 7.What happens if an existing file is opened in write mode ?"
   ]
  },
  {
   "cell_type": "markdown",
   "id": "fa8e3cb4",
   "metadata": {},
   "source": [
    "It will overwrite with existing file and if the file is not exist a new one will be created"
   ]
  },
  {
   "cell_type": "markdown",
   "id": "c5b5ff47",
   "metadata": {},
   "source": [
    "# 8.How do you tell the difference between read() and readlines() ?"
   ]
  },
  {
   "cell_type": "markdown",
   "id": "c667e1f8",
   "metadata": {},
   "source": [
    "Read(): it returns the read bytes in the form of string it takes n bytes nif n is not specified then it will read the entire file  \n",
    "Readline(): It will read and print out only the first characters that take up as many bytes as you specify in the parenthesis"
   ]
  },
  {
   "cell_type": "code",
   "execution_count": null,
   "id": "6fc466cf",
   "metadata": {},
   "outputs": [],
   "source": []
  }
 ],
 "metadata": {
  "kernelspec": {
   "display_name": "Python 3 (ipykernel)",
   "language": "python",
   "name": "python3"
  },
  "language_info": {
   "codemirror_mode": {
    "name": "ipython",
    "version": 3
   },
   "file_extension": ".py",
   "mimetype": "text/x-python",
   "name": "python",
   "nbconvert_exporter": "python",
   "pygments_lexer": "ipython3",
   "version": "3.9.7"
  }
 },
 "nbformat": 4,
 "nbformat_minor": 5
}
