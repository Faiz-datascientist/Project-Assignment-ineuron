{
 "cells": [
  {
   "cell_type": "markdown",
   "id": "4ee528f0",
   "metadata": {},
   "source": [
    "#                                Assignment 3 Theory"
   ]
  },
  {
   "cell_type": "markdown",
   "id": "b825d6dd",
   "metadata": {},
   "source": [
    "# 1. Why are functions advantageous to have in your programs?"
   ]
  },
  {
   "cell_type": "markdown",
   "id": "7ac51138",
   "metadata": {},
   "source": [
    "Answer: Functions are the block of statement it means that if i write any code there in block it makes a program more readable,\n",
    "    A big codes is always difficult to read so we break the codes in smaller function easy to understand and makes it reusable. "
   ]
  },
  {
   "cell_type": "markdown",
   "id": "cfdf5067",
   "metadata": {},
   "source": [
    "# 2. When does the code in a function run: when it's specified or when it's called?"
   ]
  },
  {
   "cell_type": "markdown",
   "id": "19a50fc1",
   "metadata": {},
   "source": [
    "Ans: codes in a function run when we called that specific function, \n",
    "    Suppose that if i create add() function with some parameter and inside the function i have created the operation with that variable\n",
    "example:\n",
    "    \n",
    "def add(x,y):  // function creation with two parameter \n",
    "    print(x+y)\n",
    "\n",
    "a=2  // assign vaule to the variable\n",
    "b=3  // assign value \n",
    "add(a,b)  // Function call and also refer the variable to the function"
   ]
  },
  {
   "cell_type": "markdown",
   "id": "400b714b",
   "metadata": {},
   "source": [
    "# 3. What statement creates a function?"
   ]
  },
  {
   "cell_type": "markdown",
   "id": "1ea91f2a",
   "metadata": {},
   "source": [
    "Answer: By using 'def' we can create function\n",
    "example \n",
    " \n",
    "def add(x,y):\n",
    "    print(x+y)\n",
    "\n",
    "a=2  \n",
    "b=3  \n",
    "add(a,b)"
   ]
  },
  {
   "cell_type": "markdown",
   "id": "f4c32f08",
   "metadata": {},
   "source": [
    "# 4. What is the difference between a function and a function call?"
   ]
  },
  {
   "cell_type": "markdown",
   "id": "e5c327fd",
   "metadata": {},
   "source": [
    "Answer: Functions are the block of statement it means that if i write any code there in block it makes a \n",
    "program more readable and a function call is the code used to pass control to a function\n",
    "\n",
    "\n",
    "def function(): // function creation\n",
    "\n",
    "\n",
    "function() // function call"
   ]
  },
  {
   "cell_type": "markdown",
   "id": "5fbf6f23",
   "metadata": {},
   "source": [
    "# 5. How many global scopes are there in a Python program? How many local scopes?"
   ]
  },
  {
   "cell_type": "markdown",
   "id": "0937fcf5",
   "metadata": {},
   "source": [
    "Answer : There are only one global scope in python "
   ]
  },
  {
   "cell_type": "markdown",
   "id": "3d69fa86",
   "metadata": {},
   "source": [
    "# 6. What happens to variables in a local scope when the function call returns"
   ]
  },
  {
   "cell_type": "markdown",
   "id": "3f02da3f",
   "metadata": {},
   "source": [
    "Answer: The local variables are destroyed when the function terminates, and are then re-created when the function starts again."
   ]
  },
  {
   "cell_type": "markdown",
   "id": "fe515523",
   "metadata": {},
   "source": [
    "# 7. What is the concept of a return value? Is it possible to have a return value in an expression?"
   ]
  },
  {
   "cell_type": "markdown",
   "id": "d606fb89",
   "metadata": {},
   "source": [
    "Ans: Return is used for function call return value which take from funtion, it is used the end the execution and return the results,\n",
    "var=10"
   ]
  },
  {
   "cell_type": "code",
   "execution_count": 4,
   "id": "f52590ba",
   "metadata": {},
   "outputs": [
    {
     "data": {
      "text/plain": [
       "10"
      ]
     },
     "execution_count": 4,
     "metadata": {},
     "output_type": "execute_result"
    }
   ],
   "source": [
    "#Example of question 7\n",
    "def atm(a):\n",
    "    return a\n",
    "atm(10)"
   ]
  },
  {
   "cell_type": "markdown",
   "id": "f68efe37",
   "metadata": {},
   "source": [
    "# 8.If a function does not have a return statement, what is the return value of a call to that function?"
   ]
  },
  {
   "cell_type": "markdown",
   "id": "3e808e90",
   "metadata": {},
   "source": [
    "Answer: If there is no return statement in a function, Then it's return value is None."
   ]
  },
  {
   "cell_type": "markdown",
   "id": "103a533d",
   "metadata": {},
   "source": [
    "# 9.How do you make a function variable refer to the global variable?"
   ]
  },
  {
   "cell_type": "markdown",
   "id": "2d343d70",
   "metadata": {},
   "source": [
    "Answer: For refer to a global variable in a function, you can use the global keyword to declare the variables are global"
   ]
  },
  {
   "cell_type": "markdown",
   "id": "73794c2c",
   "metadata": {},
   "source": [
    "# 10.What is the data type of None?"
   ]
  },
  {
   "cell_type": "markdown",
   "id": "0fe61219",
   "metadata": {},
   "source": [
    "Answer: Data type of None is NoneType"
   ]
  },
  {
   "cell_type": "markdown",
   "id": "2e256bfd",
   "metadata": {},
   "source": [
    "# 11. What does the sentence import areallyourpetsnamederic do?"
   ]
  },
  {
   "cell_type": "markdown",
   "id": "b55f91f8",
   "metadata": {},
   "source": [
    "Answer: That import statement imports a module named areallyourpetsnamederic(eg import pandas)"
   ]
  },
  {
   "cell_type": "markdown",
   "id": "f8d93c2e",
   "metadata": {},
   "source": [
    "# 12.If you had a bacon() feature in a spam module, what would you call it after importing spam?"
   ]
  },
  {
   "cell_type": "markdown",
   "id": "0643213e",
   "metadata": {},
   "source": [
    "Answer: By writing spam.bacon()"
   ]
  },
  {
   "cell_type": "markdown",
   "id": "9c035660",
   "metadata": {},
   "source": [
    "# 13. What can you do to save a programme from crashing if it encounters an error?"
   ]
  },
  {
   "cell_type": "markdown",
   "id": "a5d25537",
   "metadata": {},
   "source": [
    "Answer: By using Exception Handling (try: and except)"
   ]
  },
  {
   "cell_type": "markdown",
   "id": "73188746",
   "metadata": {},
   "source": [
    "# 14.What is the purpose of the try clause? What is the purpose of the except clause?"
   ]
  },
  {
   "cell_type": "markdown",
   "id": "dcebb06c",
   "metadata": {},
   "source": [
    "The code that can through an error goes in the try clause.\n",
    "\n",
    "The code that executes if an error happens goes in the except clause."
   ]
  }
 ],
 "metadata": {
  "kernelspec": {
   "display_name": "Python 3 (ipykernel)",
   "language": "python",
   "name": "python3"
  },
  "language_info": {
   "codemirror_mode": {
    "name": "ipython",
    "version": 3
   },
   "file_extension": ".py",
   "mimetype": "text/x-python",
   "name": "python",
   "nbconvert_exporter": "python",
   "pygments_lexer": "ipython3",
   "version": "3.9.7"
  }
 },
 "nbformat": 4,
 "nbformat_minor": 5
}
