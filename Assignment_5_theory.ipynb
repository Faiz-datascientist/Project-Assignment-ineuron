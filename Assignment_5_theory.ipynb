{
 "cells": [
  {
   "cell_type": "markdown",
   "id": "aeb9863f",
   "metadata": {},
   "source": [
    "# 1. What does an empty dictionary's code look like?"
   ]
  },
  {
   "cell_type": "markdown",
   "id": "491023f0",
   "metadata": {},
   "source": [
    "An empty dictionary is represent as with two curly brackets\n",
    "dic={} or d=dict()"
   ]
  },
  {
   "cell_type": "markdown",
   "id": "471d5258",
   "metadata": {},
   "source": [
    "\n",
    "# 2.what is the value of dictionary value with key 'foo' and the value 42 ?"
   ]
  },
  {
   "cell_type": "markdown",
   "id": "9ac04ba5",
   "metadata": {},
   "source": [
    "{\"foo\":42}"
   ]
  },
  {
   "cell_type": "markdown",
   "id": "f9b4fc2f",
   "metadata": {},
   "source": [
    "# 3.What is the most significant distinction between a dictionary and a list?"
   ]
  },
  {
   "cell_type": "markdown",
   "id": "358b169c",
   "metadata": {},
   "source": [
    "Dictionary: Dictionary is a bag of values and it is unorderd, it represent with {}\n",
    "    \n",
    "LIST: List is a collection of sequence of values and it is orderd , it represent with []"
   ]
  },
  {
   "cell_type": "markdown",
   "id": "72a8d4b7",
   "metadata": {},
   "source": [
    "# 4.What happens if you try to access spam ['foo'] if spam is {'bar':100} ?"
   ]
  },
  {
   "cell_type": "code",
   "execution_count": 2,
   "id": "7707f6ad",
   "metadata": {},
   "outputs": [
    {
     "ename": "KeyError",
     "evalue": "'foo'",
     "output_type": "error",
     "traceback": [
      "\u001b[1;31m---------------------------------------------------------------------------\u001b[0m",
      "\u001b[1;31mKeyError\u001b[0m                                  Traceback (most recent call last)",
      "\u001b[1;32mC:\\Users\\KHUSHB~1\\AppData\\Local\\Temp/ipykernel_16236/340648270.py\u001b[0m in \u001b[0;36m<module>\u001b[1;34m\u001b[0m\n\u001b[0;32m      1\u001b[0m \u001b[0mspam\u001b[0m\u001b[1;33m=\u001b[0m\u001b[1;33m{\u001b[0m\u001b[1;34m'bar'\u001b[0m\u001b[1;33m:\u001b[0m\u001b[1;36m100\u001b[0m\u001b[1;33m}\u001b[0m\u001b[1;33m\u001b[0m\u001b[1;33m\u001b[0m\u001b[0m\n\u001b[1;32m----> 2\u001b[1;33m \u001b[0mprint\u001b[0m\u001b[1;33m(\u001b[0m\u001b[0mspam\u001b[0m\u001b[1;33m[\u001b[0m\u001b[1;34m\"foo\"\u001b[0m\u001b[1;33m]\u001b[0m\u001b[1;33m)\u001b[0m\u001b[1;33m\u001b[0m\u001b[1;33m\u001b[0m\u001b[0m\n\u001b[0m\u001b[0;32m      3\u001b[0m \u001b[1;33m\u001b[0m\u001b[0m\n\u001b[0;32m      4\u001b[0m \u001b[1;31m#It shows key error\u001b[0m\u001b[1;33m\u001b[0m\u001b[1;33m\u001b[0m\u001b[0m\n",
      "\u001b[1;31mKeyError\u001b[0m: 'foo'"
     ]
    }
   ],
   "source": [
    "spam={'bar':100}\n",
    "print(spam[\"foo\"])\n",
    "\n",
    "#It shows key error "
   ]
  },
  {
   "cell_type": "markdown",
   "id": "5f9d6ab1",
   "metadata": {},
   "source": [
    "# 5.if a dictionary is stored in spam,what is the difference between the expressions 'cat' in spam and 'cat' in spam.keys() ?"
   ]
  },
  {
   "cell_type": "code",
   "execution_count": 4,
   "id": "b536919b",
   "metadata": {},
   "outputs": [
    {
     "data": {
      "text/plain": [
       "dict_keys(['cat'])"
      ]
     },
     "execution_count": 4,
     "metadata": {},
     "output_type": "execute_result"
    }
   ],
   "source": [
    "spam={'cat':1}\n",
    "spam.keys()\n",
    "#In cat in spam ductionary is having 'cat' data and spam.keys() will return the keys of spam, if it is present"
   ]
  },
  {
   "cell_type": "markdown",
   "id": "dcdb2b59",
   "metadata": {},
   "source": [
    "# 6.if a dictionary is stored in spam,what is the difference between the expressions 'cat' in spam and 'cat' in spam.values() ?"
   ]
  },
  {
   "cell_type": "markdown",
   "id": "82b3a935",
   "metadata": {},
   "source": [
    "cat in spam will check only \"cat\" keys and cat.values() will check the values of key \"cat\" "
   ]
  },
  {
   "cell_type": "markdown",
   "id": "a0f0dade",
   "metadata": {},
   "source": [
    "# 7.what is a shortcut for the following code ?\n",
    "#  Eg: if 'color' not in spam: spam['color'] ='black'"
   ]
  },
  {
   "cell_type": "markdown",
   "id": "23f47949",
   "metadata": {},
   "source": [
    "spam.setdefault('color','black')"
   ]
  },
  {
   "cell_type": "markdown",
   "id": "ab30d02d",
   "metadata": {},
   "source": [
    "# 8.How do you 'pretty print' dictionary values using which modules and function ?"
   ]
  },
  {
   "cell_type": "markdown",
   "id": "cbe4e312",
   "metadata": {},
   "source": [
    "Ans: we can pretty print a dictionary using 3 functions\n",
    "\n",
    "using pprint() function of pprint module\n",
    "using dumps() method of json module\n",
    "using dumps() method of yaml module"
   ]
  }
 ],
 "metadata": {
  "kernelspec": {
   "display_name": "Python 3 (ipykernel)",
   "language": "python",
   "name": "python3"
  },
  "language_info": {
   "codemirror_mode": {
    "name": "ipython",
    "version": 3
   },
   "file_extension": ".py",
   "mimetype": "text/x-python",
   "name": "python",
   "nbconvert_exporter": "python",
   "pygments_lexer": "ipython3",
   "version": "3.9.7"
  }
 },
 "nbformat": 4,
 "nbformat_minor": 5
}
