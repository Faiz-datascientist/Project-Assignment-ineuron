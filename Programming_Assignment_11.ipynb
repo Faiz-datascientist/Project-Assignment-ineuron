{
 "cells": [
  {
   "cell_type": "markdown",
   "id": "0df46263",
   "metadata": {},
   "source": [
    "# 1. Write a Python program to find words which are greater than given length k?"
   ]
  },
  {
   "cell_type": "code",
   "execution_count": 5,
   "id": "3f29d819",
   "metadata": {},
   "outputs": [
    {
     "name": "stdout",
     "output_type": "stream",
     "text": [
      "Enter the string: the only guy\n",
      "Enter the length of the string: 2\n",
      "the,only,guy\n"
     ]
    }
   ],
   "source": [
    "def checkLengthOfString():\n",
    "    string = input(\"Enter the string: \")\n",
    "    length = int(input('Enter the length of the string: '))\n",
    "    li = []\n",
    "    for i in string.split(\" \"):\n",
    "        if len(i) > length:\n",
    "            li.append(i)\n",
    "    print(','.join(li))\n",
    "\n",
    "checkLengthOfString()"
   ]
  },
  {
   "cell_type": "markdown",
   "id": "61ac1686",
   "metadata": {},
   "source": [
    "# 2. Write a Python program for removing i-th character from a string ?"
   ]
  },
  {
   "cell_type": "code",
   "execution_count": 8,
   "id": "ddfb68cb",
   "metadata": {},
   "outputs": [
    {
     "name": "stdout",
     "output_type": "stream",
     "text": [
      "Enter the String: acknowledge\n",
      "Enter the ith Character: 2\n",
      "acnowledge\n"
     ]
    }
   ],
   "source": [
    "def removechar():\n",
    "    string = input(\"Enter the String: \")\n",
    "    char_num = int(input(\"Enter the ith Character: \"))\n",
    "    out_string = ''\n",
    "    for i in range(len(string)):\n",
    "        if i != char_num:\n",
    "            out_string = out_string + string[i]\n",
    "    print(out_string)\n",
    "    \n",
    "removechar()"
   ]
  },
  {
   "cell_type": "markdown",
   "id": "202f5c40",
   "metadata": {},
   "source": [
    "# 3. Write a Python program to split and join a string ?"
   ]
  },
  {
   "cell_type": "code",
   "execution_count": 9,
   "id": "824ae995",
   "metadata": {},
   "outputs": [
    {
     "name": "stdout",
     "output_type": "stream",
     "text": [
      "Enter the string: faiz khan\n",
      "Split the String: ['faiz', 'khan']\n",
      "Join the String: faiz khan\n"
     ]
    }
   ],
   "source": [
    "def splitJoinString():\n",
    "    string = input('Enter the string: ')\n",
    "    print(f\"Split the String: {string.split(' ')}\")\n",
    "    print(f\"Join the String: {' '.join(string.split(' '))}\")\n",
    "\n",
    "splitJoinString()"
   ]
  },
  {
   "cell_type": "markdown",
   "id": "5077e445",
   "metadata": {},
   "source": [
    "# 4. Write a Python to check if a given string is binary string or not ?"
   ]
  },
  {
   "cell_type": "code",
   "execution_count": 15,
   "id": "c1fe3ed8",
   "metadata": {},
   "outputs": [
    {
     "name": "stdout",
     "output_type": "stream",
     "text": [
      "Enter the string: 1\n",
      "1 is a binary string\n"
     ]
    }
   ],
   "source": [
    "def Binary():\n",
    "    in_string = input('Enter the string: ')\n",
    "    li = 0\n",
    "    for i in in_string:\n",
    "        if i in ['0','1']:\n",
    "            li = 1\n",
    "            continue\n",
    "        else:\n",
    "            li = 0\n",
    "            break\n",
    "    statement = 'is a binary string' if li == 1 else 'is not a binart string' \n",
    "    print(f'{in_string} {statement}')\n",
    "\n",
    "Binary()"
   ]
  },
  {
   "cell_type": "markdown",
   "id": "2289c97e",
   "metadata": {},
   "source": [
    "# 5. Write a Python program to find uncommon words from two Strings ?"
   ]
  },
  {
   "cell_type": "code",
   "execution_count": 17,
   "id": "9e453af3",
   "metadata": {},
   "outputs": [
    {
     "name": "stdout",
     "output_type": "stream",
     "text": [
      "Enter first String : faiz\n",
      "Enter second String : khan\n",
      "{'khan', 'faiz'}\n"
     ]
    }
   ],
   "source": [
    "def unCommonWord():\n",
    "    str1 = set(input(\"Enter first String : \").split(' '))\n",
    "    str2 = set(input(\"Enter second String : \").split(' '))\n",
    "    string = (str1.union(str2)).difference(str1.intersection(str2))\n",
    "    print(string)\n",
    "\n",
    "unCommonWord()"
   ]
  },
  {
   "cell_type": "markdown",
   "id": "86161d00",
   "metadata": {},
   "source": [
    "# 6. Write a Python to find all duplicate characters in string ?"
   ]
  },
  {
   "cell_type": "code",
   "execution_count": 18,
   "id": "740fe7e5",
   "metadata": {},
   "outputs": [
    {
     "name": "stdout",
     "output_type": "stream",
     "text": [
      "Enter the string: faizkhan\n",
      "Duplicate characters are: ['a']\n"
     ]
    }
   ],
   "source": [
    "def duplicateChars():\n",
    "    string = input('Enter the string: ')\n",
    "    non_duplicate_list = []\n",
    "    duplicate_list = []\n",
    "    for i in string:\n",
    "        if i not in non_duplicate_list:\n",
    "            non_duplicate_list.append(i)\n",
    "        else:\n",
    "            duplicate_list.append(i)\n",
    "    print(f'Duplicate characters are: {list(set(duplicate_list))}')\n",
    "        \n",
    "duplicateChars()"
   ]
  },
  {
   "cell_type": "markdown",
   "id": "d72ea0d3",
   "metadata": {},
   "source": [
    "# 7. Write a Python Program to check if a string contains any special character?"
   ]
  },
  {
   "cell_type": "code",
   "execution_count": 21,
   "id": "4fd929da",
   "metadata": {},
   "outputs": [
    {
     "name": "stdout",
     "output_type": "stream",
     "text": [
      "Enter the string: faizk#\n",
      "There are 1 Speical Characters in faizk# which are ['#']\n"
     ]
    }
   ],
   "source": [
    "def specialChar():\n",
    "    special_char = '[@_!#$%^&*()<>?/\\|}{~:]'\n",
    "    num = input('Enter the string: ')\n",
    "    count = 0\n",
    "    c_list = []\n",
    "    for i in num:\n",
    "        if i in special_char:\n",
    "            c_list.append(i)\n",
    "            count = count+1\n",
    "    print(f'There are {count} Speical Characters in {num} which are {c_list}')\n",
    "            \n",
    "        \n",
    "specialChar()"
   ]
  },
  {
   "cell_type": "code",
   "execution_count": null,
   "id": "7307076f",
   "metadata": {},
   "outputs": [],
   "source": []
  }
 ],
 "metadata": {
  "kernelspec": {
   "display_name": "Python 3 (ipykernel)",
   "language": "python",
   "name": "python3"
  },
  "language_info": {
   "codemirror_mode": {
    "name": "ipython",
    "version": 3
   },
   "file_extension": ".py",
   "mimetype": "text/x-python",
   "name": "python",
   "nbconvert_exporter": "python",
   "pygments_lexer": "ipython3",
   "version": "3.9.7"
  }
 },
 "nbformat": 4,
 "nbformat_minor": 5
}
