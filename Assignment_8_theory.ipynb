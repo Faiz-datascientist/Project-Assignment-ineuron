{
 "cells": [
  {
   "cell_type": "markdown",
   "id": "e35f6396",
   "metadata": {},
   "source": [
    "#    1. Is the Python Standard Library included with PyInputPlus?"
   ]
  },
  {
   "cell_type": "markdown",
   "id": "be5cdfd9",
   "metadata": {},
   "source": [
    "no, PyInputPlus is not included in python standard library we need to install it by using !pip install PyInputPlus"
   ]
  },
  {
   "cell_type": "markdown",
   "id": "5f8f45ed",
   "metadata": {},
   "source": [
    "# 2. Why is PyInputPlus commonly imported with import pyinputplus as pypi?"
   ]
  },
  {
   "cell_type": "markdown",
   "id": "a0e2b7f7",
   "metadata": {},
   "source": [
    "we are using alias so that we call easily"
   ]
  },
  {
   "cell_type": "markdown",
   "id": "4f837eb8",
   "metadata": {},
   "source": [
    "# 3. How do you distinguish between inputInt() and inputFloat()?"
   ]
  },
  {
   "cell_type": "markdown",
   "id": "eee7fdbd",
   "metadata": {},
   "source": [
    "inputInt() will takes only integer value and inputfloat() will that only float value(eg floating point number)"
   ]
  },
  {
   "cell_type": "markdown",
   "id": "fd06abae",
   "metadata": {},
   "source": [
    "# 4. Using PyInputPlus, how do you ensure that the user enters a whole number between 0 and 99?"
   ]
  },
  {
   "cell_type": "markdown",
   "id": "9f1e77c1",
   "metadata": {},
   "source": [
    "In below example we are taking integer input and by using operators we can limit the range in ony whole number"
   ]
  },
  {
   "cell_type": "code",
   "execution_count": 5,
   "id": "eac8e7b8",
   "metadata": {},
   "outputs": [
    {
     "name": "stdout",
     "output_type": "stream",
     "text": [
      "Enter a number: 12\n",
      "12\n"
     ]
    }
   ],
   "source": [
    "import pyinputplus as pyip\n",
    "wholenumber = pyip.inputInt(prompt='Enter a number: ', min=0, max=100)\n",
    "print(wholenumber)"
   ]
  },
  {
   "cell_type": "markdown",
   "id": "b99f5f3a",
   "metadata": {},
   "source": [
    "# 5. What is transferred to the keyword arguments allowRegexes and blockRegexes?"
   ]
  },
  {
   "cell_type": "markdown",
   "id": "d7f47731",
   "metadata": {},
   "source": [
    "we can use allowRegexes and blockRegexes keyword arguments to take list of regular expression strings to determine what the pyinputplus function will reject or accept valid input."
   ]
  },
  {
   "cell_type": "markdown",
   "id": "ad617ad4",
   "metadata": {},
   "source": [
    "# 6. If a blank input is entered three times, what does inputStr(limit=3) do?"
   ]
  },
  {
   "cell_type": "markdown",
   "id": "83f62dbf",
   "metadata": {},
   "source": [
    "It will revert through error \"ValidationException\" and \"RetryLimitException\""
   ]
  },
  {
   "cell_type": "markdown",
   "id": "4fa2660e",
   "metadata": {},
   "source": [
    "# 7. If blank input is entered three times, what does inputStr(limit=3, default='hello') do?"
   ]
  },
  {
   "cell_type": "markdown",
   "id": "7248a751",
   "metadata": {},
   "source": [
    "Since we have l already set the deafult the string \"Hello\" after entered three times it will through error ValidationException and RetryLimitException then after it will print \"Hello\" as default"
   ]
  }
 ],
 "metadata": {
  "kernelspec": {
   "display_name": "Python 3 (ipykernel)",
   "language": "python",
   "name": "python3"
  },
  "language_info": {
   "codemirror_mode": {
    "name": "ipython",
    "version": 3
   },
   "file_extension": ".py",
   "mimetype": "text/x-python",
   "name": "python",
   "nbconvert_exporter": "python",
   "pygments_lexer": "ipython3",
   "version": "3.9.7"
  }
 },
 "nbformat": 4,
 "nbformat_minor": 5
}
