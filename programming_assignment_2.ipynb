{
 "cells": [
  {
   "cell_type": "markdown",
   "id": "b2d0bfc0",
   "metadata": {},
   "source": [
    "# Programming_Assignment_2"
   ]
  },
  {
   "cell_type": "code",
   "execution_count": 1,
   "id": "89f28271",
   "metadata": {},
   "outputs": [
    {
     "name": "stdout",
     "output_type": "stream",
     "text": [
      "Enter the kilometer5\n",
      "5.0 kilometers to miles is 0.62137\n"
     ]
    }
   ],
   "source": [
    "#1. Write a Python program to convert kilometers to miles?\n",
    "km=float(input(\"Enter the kilometer\"))\n",
    "conversion_factor=0.62137\n",
    "print(km,\"kilometers to miles is\",conversion_factor)"
   ]
  },
  {
   "cell_type": "code",
   "execution_count": 11,
   "id": "b535cee7",
   "metadata": {},
   "outputs": [
    {
     "name": "stdout",
     "output_type": "stream",
     "text": [
      "Enter Celsius:- 45\n",
      "45.0 Celsius convert into Fahrenheit is equals to  113.0\n"
     ]
    }
   ],
   "source": [
    "#2. Write a Python program to convert Celsius to Fahrenheit?\n",
    "Celsius=float(input(\"Enter Celsius:- \"))\n",
    "Fahrenheit=(Celsius*1.8)+32\n",
    "Celsius = (Fahrenheit - 32)/1.8\n",
    "print(Celsius,\"Celsius convert into Fahrenheit is equals to \",Fahrenheit)"
   ]
  },
  {
   "cell_type": "code",
   "execution_count": 13,
   "id": "984511f6",
   "metadata": {},
   "outputs": [
    {
     "name": "stdout",
     "output_type": "stream",
     "text": [
      "Enter year:- 2022\n",
      "Enter month:- 11\n",
      "   November 2022\n",
      "Mo Tu We Th Fr Sa Su\n",
      "    1  2  3  4  5  6\n",
      " 7  8  9 10 11 12 13\n",
      "14 15 16 17 18 19 20\n",
      "21 22 23 24 25 26 27\n",
      "28 29 30\n",
      "\n"
     ]
    }
   ],
   "source": [
    "#3. Write a Python program to display calendar?\n",
    "import calendar\n",
    "\n",
    "yy = int(input(\"Enter year:- \"))\n",
    "mm = int(input(\"Enter month:- \"))\n",
    "print(calendar.month(yy, mm))"
   ]
  },
  {
   "cell_type": "code",
   "execution_count": 16,
   "id": "617aff37",
   "metadata": {},
   "outputs": [
    {
     "name": "stdout",
     "output_type": "stream",
     "text": [
      "pos1 and pos2 are (-3+0j) and (-2+0j)\n"
     ]
    }
   ],
   "source": [
    "#4. Write a Python program to solve quadratic equation?\n",
    "import cmath\n",
    "\n",
    "a = 1\n",
    "b = 5\n",
    "c = 6\n",
    "\n",
    "d = (b**2) - (4*a*c)\n",
    "\n",
    "pos1 = (-b-cmath.sqrt(d))/(2*a)\n",
    "pos2 = (-b+cmath.sqrt(d))/(2*a)\n",
    "\n",
    "print('pos1 and pos2 are {0} and {1}'.format(pos1,pos2))"
   ]
  },
  {
   "cell_type": "code",
   "execution_count": 19,
   "id": "a1cfe2b4",
   "metadata": {},
   "outputs": [
    {
     "name": "stdout",
     "output_type": "stream",
     "text": [
      "After swapping a is 5 and b is 4\n"
     ]
    }
   ],
   "source": [
    "#5. Write a Python program to swap two variables without temp variable?\n",
    "a=4\n",
    "b=5\n",
    "a=a+b\n",
    "b=a-b\n",
    "a=a-b\n",
    "print(\"After swapping a is {0} and b is {1}\".format(a,b))"
   ]
  },
  {
   "cell_type": "code",
   "execution_count": null,
   "id": "6d12f61e",
   "metadata": {},
   "outputs": [],
   "source": []
  }
 ],
 "metadata": {
  "kernelspec": {
   "display_name": "Python 3 (ipykernel)",
   "language": "python",
   "name": "python3"
  },
  "language_info": {
   "codemirror_mode": {
    "name": "ipython",
    "version": 3
   },
   "file_extension": ".py",
   "mimetype": "text/x-python",
   "name": "python",
   "nbconvert_exporter": "python",
   "pygments_lexer": "ipython3",
   "version": "3.9.7"
  }
 },
 "nbformat": 4,
 "nbformat_minor": 5
}
