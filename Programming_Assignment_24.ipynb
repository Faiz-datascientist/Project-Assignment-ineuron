{
 "cells": [
  {
   "cell_type": "markdown",
   "id": "a336b31f",
   "metadata": {},
   "source": [
    "# Programming_Assignment_24"
   ]
  },
  {
   "cell_type": "markdown",
   "id": "6ec30faf",
   "metadata": {},
   "source": [
    "# 1.Create a function that takes an integer and returns a list from 1 to the given number, where:\n",
    "1.If the number can be divided evenly by 4, amplify it by 10 (i.e. return 10 times the number).\n",
    "\n",
    "2.If the number cannot be divided evenly by 4, simply return the number.\n",
    "\n",
    "Examples:\n",
    "amplify(4) ➞ [1, 2, 3, 40]\n",
    "amplify(3) ➞ [1, 2, 3]\n",
    "amplify(25) ➞ [1, 2, 3, 40, 5, 6, 7, 80, 9, 10, 11, 120, 13, 14, 15, 160, 17, 18, 19, 200, 21, 22, 23, 240, 25]\n",
    "Notes:\n",
    "1.The given integer will always be equal to or greater than 1.\n",
    "2.Include the number (see example above).\n",
    "3.To perform this problem with its intended purpose, try doing it with list"
   ]
  },
  {
   "cell_type": "code",
   "execution_count": 19,
   "id": "2b2813ea",
   "metadata": {},
   "outputs": [
    {
     "name": "stdout",
     "output_type": "stream",
     "text": [
      "number and output , 7 - [1, 2, 3, 40, 5, 6, 7]\n",
      "number and output , 4 - [1, 2, 3, 40]\n",
      "number and output , 13 - [1, 2, 3, 40, 5, 6, 7, 80, 9, 10, 11, 120, 13]\n"
     ]
    }
   ],
   "source": [
    "def ReturnList(num):\n",
    "    output_list = []\n",
    "    for i in range(1,num+1):\n",
    "        if i%4 == 0:\n",
    "            output_list.append(i*10)\n",
    "        else:\n",
    "            output_list.append(i)\n",
    "    print(\"number and output , \"f'{num} - {output_list}')\n",
    "            \n",
    "ReturnList(7)\n",
    "ReturnList(4)\n",
    "ReturnList(13)"
   ]
  },
  {
   "cell_type": "markdown",
   "id": "8286146e",
   "metadata": {},
   "source": [
    "# 2.Create a function that takes a list of numbers and return the number that's unique.\\\n",
    "\n",
    "Examples:\n",
    "unique([3, 3, 3, 7, 3, 3]) ➞ 7\n",
    "\n",
    "unique([0, 0, 0.77, 0, 0]) ➞ 0.77\n",
    "\n",
    "unique([0, 1, 1, 1, 1, 1, 1, 1]) ➞ 0\n",
    "\n",
    "Notes:\n",
    "\n",
    "Test cases will always have exactly one unique number while all others are the same."
   ]
  },
  {
   "cell_type": "code",
   "execution_count": 22,
   "id": "3229cac3",
   "metadata": {},
   "outputs": [
    {
     "name": "stdout",
     "output_type": "stream",
     "text": [
      "[4, 5, 6, 7, 8, 9] ➞ 9\n",
      "[1, 2, 2, 2, 0, 7] ➞ 7\n",
      "[1, 2, 4, 8, 3, 5, 6, 7] ➞ 8\n"
     ]
    }
   ],
   "source": [
    "def numberUnique(input_list):\n",
    "    num = ''\n",
    "    for i in set(input_list):\n",
    "        if input_list.count(i) == 1:\n",
    "            num = i\n",
    "    print(f'{input_list} ➞ {num}')\n",
    "\n",
    "numberUnique([4,5,6,7,8,9])\n",
    "numberUnique([1,2,2,2,0,7])\n",
    "numberUnique([1,2,4,8,3,5,6,7])"
   ]
  },
  {
   "cell_type": "markdown",
   "id": "9fc342b3",
   "metadata": {},
   "source": [
    "# 3.Your task is to create a Circle constructor that creates a circle with a radius provided by an argument. The circles constructed must have two getters getArea() (PIr^2) and getPerimeter() (2PI*r) which give both respective areas and perimeter (circumference). For help with this class, I have provided you with a Rectangle constructor which you can use as a base example ?\n",
    "Examples:\n",
    "circy = Circle(11)\n",
    "circy.getArea()\n",
    "# Should return 380.132711084365 circy = Circle(4.44)\n",
    "circy.getPerimeter()\n",
    "# Should return 27.897342763877365\n",
    "\n",
    "Notes:\n",
    "Round results up to the nearest integer."
   ]
  },
  {
   "cell_type": "code",
   "execution_count": 26,
   "id": "b9747545",
   "metadata": {},
   "outputs": [
    {
     "name": "stdout",
     "output_type": "stream",
     "text": [
      "radi ➞ 380\n",
      "Perimeter ➞ 28\n"
     ]
    }
   ],
   "source": [
    "import math\n",
    "\n",
    "class circle:\n",
    "    def __init__(self, radi):\n",
    "        self.radi = radi\n",
    "    def getArea(self):\n",
    "        print(f'radi ➞ {round(math.pi*self.radi*self.radi)}')\n",
    "    def getPerimeter(self):\n",
    "        print(f'Perimeter ➞ {round(2*math.pi*self.radi)}')\n",
    "    \n",
    "circy = circle(11)\n",
    "circy.getArea()\n",
    "\n",
    "circy = circle(4.44)\n",
    "circy.getPerimeter()"
   ]
  },
  {
   "cell_type": "markdown",
   "id": "61256264",
   "metadata": {},
   "source": [
    "# 4.Create a function that takes a list of strings and return a list, sorted from shortest to longest.\n",
    "Examples:\n",
    "sort_by_length([\"Google\", \"Apple\", \"Microsoft\"])\n",
    "\n",
    "➞ [\"Apple\", \"Google\", \"Microsoft\"]\n",
    "\n",
    "sort_by_length([\"Leonardo\", \"Michelangelo\", \"Raphael\", \"Donatello\"])\n",
    "\n",
    "➞ [\"Raphael\", \"Leonardo\", \"Donatello\", \"Michelangelo\"]\n",
    "\n",
    "sort_by_length([\"Turing\", \"Einstein\", \"Jung\"])\n",
    "\n",
    "➞ [\"Jung\", \"Turing\", \"Einstein\"]\n",
    "\n",
    "Notes:\n",
    "All test cases contain lists with strings of different lengths, so you won't have to deal with multiple strings of the same length."
   ]
  },
  {
   "cell_type": "code",
   "execution_count": 27,
   "id": "7452f5d8",
   "metadata": {},
   "outputs": [
    {
     "name": "stdout",
     "output_type": "stream",
     "text": [
      "['Apple', 'Google', 'Microsoft']\n",
      "['Raphael', 'Leonardo', 'Donatello', 'Michelangelo']\n",
      "['Jung', 'Turing', 'Einstein']\n"
     ]
    }
   ],
   "source": [
    "def sorting(in_list):\n",
    "    print(sorted(in_list,key=len))\n",
    "\n",
    "sorting([\"Google\", \"Apple\", \"Microsoft\"])\n",
    "sorting([\"Leonardo\", \"Michelangelo\", \"Raphael\", \"Donatello\"])\n",
    "sorting([\"Turing\", \"Einstein\", \"Jung\"])"
   ]
  },
  {
   "cell_type": "markdown",
   "id": "0569747a",
   "metadata": {},
   "source": [
    "# 5.Create a function that validates whether three given integers form a Pythagorean triplet. The sum of the squares of the two smallest integers must equal the square of the largest number to be validated.\n",
    "Examples:\n",
    "is_triplet(3, 4, 5) ➞ True # 3² + 4² = 25 # 5² = 25 is_triplet(13, 5, 12) ➞ True # 5² + 12² = 169 # 13² = 169 is_triplet(1, 2, 3) ➞ False # 1² + 2² = 5 # 3² = 9\n",
    "\n",
    "Notes: Numbers may not be given in a sorted order."
   ]
  },
  {
   "cell_type": "code",
   "execution_count": 8,
   "id": "da7a5222",
   "metadata": {},
   "outputs": [
    {
     "name": "stdout",
     "output_type": "stream",
     "text": [
      "Enter the Input String: thehero\n",
      "LETTERS 7 \n",
      "DIGITS 0\n"
     ]
    }
   ],
   "source": [
    "def Pythagorean_triplet(a,b,c):\n",
    "    if ((a**2+b**2) == (c**2)):\n",
    "        print(f'{a,b,c} - {True}')\n",
    "    else:\n",
    "        print(f'{a,b,c} - {False}')\n",
    "        \n",
    "is_triplet(3, 4, 5)\n",
    "is_triplet(3, 4, 5)\n",
    "is_triplet(1, 2, 3)(a,b,c):\n",
    "    if ((a**2+b**2) == (c**2)):\n",
    "        print(f'{a,b,c} - {True}')\n",
    "    else:\n",
    "        print(f'{a,b,c} - {False}')\n",
    "        \n",
    "is_triplet(3, 4, 5)\n",
    "is_triplet(3, 4, 5)\n",
    "is_triplet(1, 2, 3)(a,b,c):\n",
    "    if ((a**2+b**2) == (c**2)):\n",
    "        print(f'{a,b,c} - {True}')\n",
    "    else:\n",
    "        print(f'{a,b,c} - {False}')\n",
    "        \n",
    "Pythagorean_triplet(3, 4, 5)\n",
    "Pythagorean_triplet(3, 4, 5)\n",
    "Pythagorean_triplet(1, 2, 3)"
   ]
  },
  {
   "cell_type": "markdown",
   "id": "521d90c1",
   "metadata": {},
   "source": [
    "# 6.A website requires the users to input username and password to register. Write a program to check the validity of password input by users.\n",
    "Following are the criteria for checking the password:\n",
    "\n",
    "At least 1 letter between [a-z]\n",
    "At least 1 number between [0-9]\n",
    "At least 1 letter between [A-Z]\n",
    "At least 1 character from [$#@]\n",
    "Minimum length of transaction password: 6\n",
    "                           \n",
    "Maximum length of transaction password: 12\n",
    "                           \n",
    "Your program should accept a sequence of comma separated passwords and will check them according to the above criteria. Passwords that match the criteria are to be printed, each separated by a comma.\n",
    "\n",
    "Example:\n",
    "                           \n",
    "If the following passwords are given as input to the program: ABd1234@1,a F1#,2w3E*,2We3345\n",
    "                           \n",
    "Then, the output of the program should be:ABd1234@1"
   ]
  },
  {
   "cell_type": "code",
   "execution_count": 15,
   "id": "5ea3df04",
   "metadata": {},
   "outputs": [
    {
     "name": "stdout",
     "output_type": "stream",
     "text": [
      "Enter the Input String: ABd1234@1,a F1#,2w3E*,2We3345\n",
      "ABd1234@1\n"
     ]
    }
   ],
   "source": [
    "def Passwordchecker():\n",
    "    in_string = input(\"Enter the Input String: \")\n",
    "    small_list = \"abcdefghijklmnopqrstuvwxyz\"\n",
    "    cap_list = \"ABCDEFGHIJKLMNOPQRSTUVWXYZ\"\n",
    "    num_list = \"0123456789\"\n",
    "    special_list = \"$#@\"\n",
    "    for ele in in_string.split(\",\"):\n",
    "        if len(ele) <= 12 and len(ele) >=6 :\n",
    "            if any(i.isupper() for i in ele):\n",
    "                if any(i.islower() for i in ele):\n",
    "                    if any(i for i in ele if i in special_list):\n",
    "                        print(ele)\n",
    "                               \n",
    "Passwordchecker()"
   ]
  },
  {
   "cell_type": "code",
   "execution_count": null,
   "id": "86f1ee0d",
   "metadata": {},
   "outputs": [],
   "source": []
  }
 ],
 "metadata": {
  "kernelspec": {
   "display_name": "Python 3 (ipykernel)",
   "language": "python",
   "name": "python3"
  },
  "language_info": {
   "codemirror_mode": {
    "name": "ipython",
    "version": 3
   },
   "file_extension": ".py",
   "mimetype": "text/x-python",
   "name": "python",
   "nbconvert_exporter": "python",
   "pygments_lexer": "ipython3",
   "version": "3.9.7"
  }
 },
 "nbformat": 4,
 "nbformat_minor": 5
}
