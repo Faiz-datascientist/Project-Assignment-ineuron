{
 "cells": [
  {
   "cell_type": "markdown",
   "id": "888950cb",
   "metadata": {},
   "source": [
    "#                        Assignment_6_theory"
   ]
  },
  {
   "cell_type": "markdown",
   "id": "73416fc1",
   "metadata": {},
   "source": [
    "# 1. What are escape characters, and how do you use them?"
   ]
  },
  {
   "cell_type": "markdown",
   "id": "d288a758",
   "metadata": {},
   "source": [
    "Escape characters represent characters in string values that \n",
    "would otherwise be difficult or impossible to type into code.\n",
    "we can use the backslash character to escape a single character or symbol\n",
    "EG: \\t, \\n"
   ]
  },
  {
   "cell_type": "markdown",
   "id": "cd31e3c1",
   "metadata": {},
   "source": [
    "# 2. What do the escape characters n and t stand for?"
   ]
  },
  {
   "cell_type": "markdown",
   "id": "7b872357",
   "metadata": {},
   "source": [
    "\\n is a newline, \\t is a tab"
   ]
  },
  {
   "cell_type": "markdown",
   "id": "fe20abc4",
   "metadata": {},
   "source": [
    "# 3. What is the way to include backslash characters in a string?"
   ]
  },
  {
   "cell_type": "markdown",
   "id": "df497158",
   "metadata": {},
   "source": [
    "The \\\\ escape character will represent the backlslah character"
   ]
  },
  {
   "cell_type": "markdown",
   "id": "91f3c9da",
   "metadata": {},
   "source": [
    "# 4.The string \"Howl's Moving Castle\" is a correct value. Why isn't the single quote character in the word Howl's not escaped a problem ?"
   ]
  },
  {
   "cell_type": "markdown",
   "id": "c457cad5",
   "metadata": {},
   "source": [
    "The string \"Howl's Moving Castle\" is used under double quote that why it's escaped if i write inside single quote then we have \n",
    "to use '\\' backslace to escaped it \n",
    "\"Howl's Moving Castle\"  -> 'Howl\\'s Moving Castle'"
   ]
  },
  {
   "cell_type": "markdown",
   "id": "98780ed2",
   "metadata": {},
   "source": [
    "# 5.How do you write a string of newlines if you don't want to use the n character?"
   ]
  },
  {
   "cell_type": "markdown",
   "id": "f01bd795",
   "metadata": {},
   "source": [
    "we can use multiline string to aviod using '\\n' \n",
    "Example: \"\"\"the value of n charater is also used \n",
    "for the other character\"\"\"\n",
    "like wise"
   ]
  },
  {
   "cell_type": "markdown",
   "id": "76c10c0d",
   "metadata": {},
   "source": [
    "# 6.What are the values of the given expressions ?\n",
    "'Hello, world!'[1]\n",
    "'Hello, world!'[0:5]\n",
    "'Hello, world!'[:5]\n",
    "'Hello, world!'[3:]"
   ]
  },
  {
   "cell_type": "markdown",
   "id": "98f04dfe",
   "metadata": {},
   "source": [
    "'Hello, world!'[1]  -> e\n",
    "'Hello, world!'[0:5]  -> Hello\n",
    "'Hello, world!'[:5]  -> , world\n",
    "'Hello, world!'[3:] -> lo, world"
   ]
  },
  {
   "cell_type": "markdown",
   "id": "6c0b76f8",
   "metadata": {},
   "source": [
    "# 7.What are the values of the following expressions ?\n",
    "'Hello'.upper()\n",
    "'Hello'.upper().isupper()\n",
    "'Hello'.upper().lower()"
   ]
  },
  {
   "cell_type": "markdown",
   "id": "e83ec1cc",
   "metadata": {},
   "source": [
    "'Hello'.upper()  -> HELLO\n",
    "'Hello'.upper().isupper() -> TRUE\n",
    "'Hello'.upper().lower() -> hello"
   ]
  },
  {
   "cell_type": "markdown",
   "id": "044f9445",
   "metadata": {},
   "source": [
    "# 8. What are the values of the following expressions?\n",
    "'Remember, remember, the fifith of July.'.split()\n",
    "-'.join('There can only one'.split())"
   ]
  },
  {
   "cell_type": "markdown",
   "id": "ea2035c1",
   "metadata": {},
   "source": [
    " 'Remember, remember, the fifith of July.'.split() -> ['Remember,', 'remember,', 'the', 'fifith', 'of', 'July.']\n",
    "\n",
    "'-'.join('There can only one'.split()) -> 'There-can-only-one'"
   ]
  },
  {
   "cell_type": "markdown",
   "id": "84127eb8",
   "metadata": {},
   "source": [
    "# 9.What are the methods for right-justifying, left-justifying and centering a string ?"
   ]
  },
  {
   "cell_type": "markdown",
   "id": "3de283ec",
   "metadata": {},
   "source": [
    "The rjust(),ljust(),center() string methods, respectively"
   ]
  },
  {
   "cell_type": "markdown",
   "id": "78b1d5e9",
   "metadata": {},
   "source": [
    "# 10. What is the best way to remove whitespace characters from the start or end?"
   ]
  },
  {
   "cell_type": "markdown",
   "id": "8a9aeb69",
   "metadata": {},
   "source": [
    "lstrip() and rstrip()"
   ]
  },
  {
   "cell_type": "code",
   "execution_count": null,
   "id": "ce7d63e8",
   "metadata": {},
   "outputs": [],
   "source": []
  }
 ],
 "metadata": {
  "kernelspec": {
   "display_name": "Python 3 (ipykernel)",
   "language": "python",
   "name": "python3"
  },
  "language_info": {
   "codemirror_mode": {
    "name": "ipython",
    "version": 3
   },
   "file_extension": ".py",
   "mimetype": "text/x-python",
   "name": "python",
   "nbconvert_exporter": "python",
   "pygments_lexer": "ipython3",
   "version": "3.9.7"
  }
 },
 "nbformat": 4,
 "nbformat_minor": 5
}
