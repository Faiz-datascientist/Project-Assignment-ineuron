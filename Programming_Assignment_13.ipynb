{
 "cells": [
  {
   "cell_type": "markdown",
   "id": "a336b31f",
   "metadata": {},
   "source": [
    "# Programming_Assignment_13"
   ]
  },
  {
   "cell_type": "markdown",
   "id": "e24b8661",
   "metadata": {},
   "source": [
    "# 1. Write a program that calculates and prints the value according to the given formula:\n",
    "Q = Square root of [(2 * C * D)/H]\n",
    "Following are the fixed values of C and H:\n",
    "\n",
    "C is 50. H is 30.\n",
    "D is the variable whose values should be input to your program in a comma-separated\n",
    "sequence.\n",
    "\n",
    "Example\n",
    "Let us assume the following comma separated input sequence is given to the program:\n",
    "100,150,180\n",
    "The output of the program should be:\n",
    "18,22,24"
   ]
  },
  {
   "cell_type": "code",
   "execution_count": 3,
   "id": "2b2813ea",
   "metadata": {},
   "outputs": [
    {
     "name": "stdout",
     "output_type": "stream",
     "text": [
      "Enter the Input: 111,342,124\n",
      "Output: 19,33,20\n"
     ]
    }
   ],
   "source": [
    "from math import sqrt\n",
    "def calculatesqrt():\n",
    "    input_num = eval(input(\"Enter the Input: \"))\n",
    "    output_num = []\n",
    "    C = 50\n",
    "    H = 30 \n",
    "    for i in input_num:\n",
    "        Q = str(int(sqrt((2*C*i)/H)))\n",
    "        output_num.append(Q)\n",
    "    print(\"Output: {}\".format(','.join(output_num)))\n",
    "    \n",
    "calculatesqrt()"
   ]
  },
  {
   "cell_type": "markdown",
   "id": "aba3bd5b",
   "metadata": {},
   "source": [
    "# 2.Write a program which takes 2 digits, X,Y as input and generates a 2-dimensional array. The element value in the i-th row and j-th column of the array should be i*j.\n",
    "Note: i=0,1.., X-1; j=0,1,¡Y-1.\n",
    "Example: Suppose the following inputs are given to the program: 3,5\n",
    "Then, the output of the program should be:[[0, 0, 0, 0, 0], [0, 1, 2, 3, 4], [0, 2, 4, 6, 8]]"
   ]
  },
  {
   "cell_type": "code",
   "execution_count": 4,
   "id": "3229cac3",
   "metadata": {},
   "outputs": [
    {
     "name": "stdout",
     "output_type": "stream",
     "text": [
      "Enter Rows: 2\n",
      "Enter Columns: 4\n",
      "[[0, 0, 0, 0], [0, 1, 2, 3]]\n"
     ]
    }
   ],
   "source": [
    "import array as arr\n",
    "def generate2Darray():\n",
    "    x = int(input('Enter Rows: '))\n",
    "    y = int(input('Enter Columns: ')) \n",
    "    output_array = []\n",
    "    for i in range(x):\n",
    "        output_array.insert(x,[])\n",
    "        for j in range(y):\n",
    "            output_array[i].append(i*j)\n",
    "    print(output_array)\n",
    "    \n",
    "generate2Darray()"
   ]
  },
  {
   "cell_type": "markdown",
   "id": "5a7b6bea",
   "metadata": {},
   "source": [
    "# 3.Write a program that accepts a comma separated sequence of words as input and prints the words in a comma-separated sequence after sorting them alphabetically ?\n",
    "Suppose the following input is supplied to the program: without,hello,bag,world\n",
    "\n",
    "Then, the output should be: bag,hello,without,world"
   ]
  },
  {
   "cell_type": "code",
   "execution_count": 5,
   "id": "b9747545",
   "metadata": {},
   "outputs": [
    {
     "name": "stdout",
     "output_type": "stream",
     "text": [
      "Enter the Input String: a,d,f,c,\n",
      "Output: ,a,c,d,f\n"
     ]
    }
   ],
   "source": [
    "def StringSort():\n",
    "    a = input(\"Enter the Input String: \")\n",
    "    b = ','.join(sorted(a.split(',')))\n",
    "    print(f'Output: {b}')\n",
    "    \n",
    "StringSort()"
   ]
  },
  {
   "cell_type": "markdown",
   "id": "e5c96003",
   "metadata": {},
   "source": [
    "# 4.Write a program that accepts a sequence of whitespace separated words as input and prints the words after removing all duplicate words and sorting them alphanumerically.\n",
    "Suppose the following input is supplied to the program: hello world and practice makes perfect and hello world again\n",
    "\n",
    "Then, the output should be: again and hello makes perfect practice world"
   ]
  },
  {
   "cell_type": "code",
   "execution_count": 6,
   "id": "988165f5",
   "metadata": {},
   "outputs": [
    {
     "name": "stdout",
     "output_type": "stream",
     "text": [
      "Enter the Input String: a f c e \n",
      "Output:  a c e f\n"
     ]
    }
   ],
   "source": [
    "def sortingAlphaNumerically():\n",
    "    a = input(\"Enter the Input String: \")\n",
    "    b = ' '.join(sorted(sorted(list(set(a.split(\" \"))))))\n",
    "    print(f'Output: {b}')\n",
    "    \n",
    "sortingAlphaNumerically()"
   ]
  },
  {
   "cell_type": "markdown",
   "id": "72a58590",
   "metadata": {},
   "source": [
    "# 5.Write a program that accepts a sentence and calculate the number of letters and digits.\n",
    "Suppose the following input is supplied to the program: hello world! 123\n",
    "    \n",
    "Then, the output should be:\n",
    "    \n",
    "LETTERS 10\n",
    "DIGITS 3"
   ]
  },
  {
   "cell_type": "code",
   "execution_count": 8,
   "id": "019afb53",
   "metadata": {},
   "outputs": [
    {
     "name": "stdout",
     "output_type": "stream",
     "text": [
      "Enter the Input String: thehero\n",
      "LETTERS 7 \n",
      "DIGITS 0\n"
     ]
    }
   ],
   "source": [
    "def cal():\n",
    "    a = input(\"Enter the Input String: \")\n",
    "    alphabetslist = 'ABCDEFGHIJKLMNOPQRSTUVWXYZabcdefghijklmnopqrstuvwxyz'\n",
    "    digitlist = '0123456789'\n",
    "    letters = 0\n",
    "    digits = 0\n",
    "    for i in a:\n",
    "        if i in alphabetslist:\n",
    "            letters += 1\n",
    "        if i in digitlist:\n",
    "            digits += 1\n",
    "    print(f'LETTERS {letters} \\nDIGITS {digits}')\n",
    "        \n",
    "cal()"
   ]
  },
  {
   "cell_type": "markdown",
   "id": "26a2e36e",
   "metadata": {},
   "source": [
    "# 6.A website requires the users to input username and password to register. Write a program to check the validity of password input by users.\n",
    "Following are the criteria for checking the password:\n",
    "\n",
    "At least 1 letter between [a-z]\n",
    "At least 1 number between [0-9]\n",
    "At least 1 letter between [A-Z]\n",
    "At least 1 character from [$#@]\n",
    "Minimum length of transaction password: 6\n",
    "                           \n",
    "Maximum length of transaction password: 12\n",
    "                           \n",
    "Your program should accept a sequence of comma separated passwords and will check them according to the above criteria. Passwords that match the criteria are to be printed, each separated by a comma.\n",
    "\n",
    "Example:\n",
    "                           \n",
    "If the following passwords are given as input to the program: ABd1234@1,a F1#,2w3E*,2We3345\n",
    "                           \n",
    "Then, the output of the program should be:ABd1234@1"
   ]
  },
  {
   "cell_type": "code",
   "execution_count": 15,
   "id": "f7a9e8e4",
   "metadata": {},
   "outputs": [
    {
     "name": "stdout",
     "output_type": "stream",
     "text": [
      "Enter the Input String: ABd1234@1,a F1#,2w3E*,2We3345\n",
      "ABd1234@1\n"
     ]
    }
   ],
   "source": [
    "def Passwordchecker():\n",
    "    in_string = input(\"Enter the Input String: \")\n",
    "    small_list = \"abcdefghijklmnopqrstuvwxyz\"\n",
    "    cap_list = \"ABCDEFGHIJKLMNOPQRSTUVWXYZ\"\n",
    "    num_list = \"0123456789\"\n",
    "    special_list = \"$#@\"\n",
    "    for ele in in_string.split(\",\"):\n",
    "        if len(ele) <= 12 and len(ele) >=6 :\n",
    "            if any(i.isupper() for i in ele):\n",
    "                if any(i.islower() for i in ele):\n",
    "                    if any(i for i in ele if i in special_list):\n",
    "                        print(ele)\n",
    "                               \n",
    "Passwordchecker()"
   ]
  },
  {
   "cell_type": "code",
   "execution_count": null,
   "id": "2a09477a",
   "metadata": {},
   "outputs": [],
   "source": []
  }
 ],
 "metadata": {
  "kernelspec": {
   "display_name": "Python 3 (ipykernel)",
   "language": "python",
   "name": "python3"
  },
  "language_info": {
   "codemirror_mode": {
    "name": "ipython",
    "version": 3
   },
   "file_extension": ".py",
   "mimetype": "text/x-python",
   "name": "python",
   "nbconvert_exporter": "python",
   "pygments_lexer": "ipython3",
   "version": "3.9.7"
  }
 },
 "nbformat": 4,
 "nbformat_minor": 5
}
