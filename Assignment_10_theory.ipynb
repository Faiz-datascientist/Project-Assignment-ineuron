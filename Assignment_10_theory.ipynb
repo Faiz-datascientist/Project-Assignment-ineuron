{
 "cells": [
  {
   "cell_type": "markdown",
   "id": "981c13ce",
   "metadata": {},
   "source": [
    "# 1. How do you distinguish between shutil.copy() and shutil.copytree()?"
   ]
  },
  {
   "cell_type": "markdown",
   "id": "426bdec8",
   "metadata": {},
   "source": [
    "shutil.copy() : It is used to copy files from one to another , It takes two arguments one SRC and DEST\n",
    "                src represents the file to be copied where as destination refers to the file/folder to \n",
    "                where the src data should be copied\n",
    "            \n",
    "shutil.copytree() : It method recursively copies an entire directory tree rooted at source (src)\n",
    "                    to the destination directory. The destination directory, named by (dst) must not already exist. \n",
    "         "
   ]
  },
  {
   "cell_type": "markdown",
   "id": "c226dad3",
   "metadata": {},
   "source": [
    "# 2. What function is used to rename files??"
   ]
  },
  {
   "cell_type": "markdown",
   "id": "d9436441",
   "metadata": {},
   "source": [
    "os.rename() : function is used to rename files or directories using a python program, it takes two parameter first src and dst , SRC represent the name of the file which we want to rename and DST represent the new name of the file  "
   ]
  },
  {
   "cell_type": "markdown",
   "id": "e898bff4",
   "metadata": {},
   "source": [
    "# 3. What is the difference between the delete functions in the send2trash and shutil modules?"
   ]
  },
  {
   "cell_type": "markdown",
   "id": "0a000f7c",
   "metadata": {},
   "source": [
    "Send2trash file is used to move files and folder to recyclebin\n",
    "Shutil  : It is used to delete files or folder permanently"
   ]
  },
  {
   "cell_type": "markdown",
   "id": "8ab64b20",
   "metadata": {},
   "source": [
    "# 4.ZipFile objects have a close() method just like File objects’ close() method. What ZipFile method is equivalent to File objects’ open() method?"
   ]
  },
  {
   "cell_type": "markdown",
   "id": "4a44084e",
   "metadata": {},
   "source": [
    "ZipFile Module provides a method called as zipfile.ZipFile(), To read and write to zipfiles , it takes two argument filename and mode zipfile.ZipFile('filename', mode = 'r')"
   ]
  },
  {
   "cell_type": "markdown",
   "id": "10717c86",
   "metadata": {},
   "source": [
    "# 5. Create a programme that searches a folder tree for files with a certain file extension (such as .pdf or .jpg). Copy these files from whatever location they are in to a new folder "
   ]
  },
  {
   "cell_type": "code",
   "execution_count": 3,
   "id": "0a7a07b5",
   "metadata": {},
   "outputs": [],
   "source": [
    "import os\n",
    "import shutil\n",
    "\n",
    "def search_and_copy(source,destination,extensions):\n",
    "    source = os.path.abspath(source)\n",
    "    destination = os.path.abspath(destination)\n",
    "    for foldername, subfolder, filenames in os.walk(source):\n",
    "        print(f'Folder Name ➞ {foldername}',end='\\n\\n')\n",
    "        print(f'Sub Folders ➞ {subfolder}',end='\\n\\n')\n",
    "        print(f'Files ➞ {filenames}',end='\\n\\n')\n",
    "        for filename in filenames:\n",
    "            fileName,extension = os.path.splitext(filename)\n",
    "            if extension in extensions:\n",
    "                targetFile = foldername+os.path.sep+fileName+extension\n",
    "                shutil.copy(targetFile, destination)\n",
    "        print(f'Files copied successfully from {source} to {destination}')\n",
    "    \n",
    "extensions = ['.pdf','.jpg','.ipynb']\n",
    "source = 'Dummy Source'\n",
    "destination = 'Dummy Destination'\n",
    "search_and_copy(source, destination, extensions)"
   ]
  },
  {
   "cell_type": "code",
   "execution_count": null,
   "id": "566f73f5",
   "metadata": {},
   "outputs": [],
   "source": []
  }
 ],
 "metadata": {
  "kernelspec": {
   "display_name": "Python 3 (ipykernel)",
   "language": "python",
   "name": "python3"
  },
  "language_info": {
   "codemirror_mode": {
    "name": "ipython",
    "version": 3
   },
   "file_extension": ".py",
   "mimetype": "text/x-python",
   "name": "python",
   "nbconvert_exporter": "python",
   "pygments_lexer": "ipython3",
   "version": "3.9.7"
  }
 },
 "nbformat": 4,
 "nbformat_minor": 5
}
