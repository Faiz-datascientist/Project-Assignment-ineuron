{
 "cells": [
  {
   "cell_type": "markdown",
   "id": "a4c57855",
   "metadata": {},
   "source": [
    "# 1. Define a class with a generator which can iterate the numbers, which are divisible by 7, between a given range 0 and n."
   ]
  },
  {
   "cell_type": "code",
   "execution_count": 1,
   "id": "415fb773",
   "metadata": {},
   "outputs": [
    {
     "name": "stdout",
     "output_type": "stream",
     "text": [
      "0 7 14 21 28 35 42 49 56 63 70 77 84 91 98 105 112 119 126 133 140 147 154 161 168 175 182 189 196 203 210 217 224 231 238 245 252 259 266 273 280 287 294 301 308 315 322 329 336 343 350 "
     ]
    }
   ],
   "source": [
    "class div_generator:\n",
    "    def __init__(self,in_num):\n",
    "        self.in_num = in_num\n",
    "    def get_numbers(self):\n",
    "        for i in range(0,self.in_num+1):\n",
    "            if i%7 == 0:\n",
    "                yield i\n",
    "                \n",
    "output = div_generator(350)\n",
    "for i in output.get_numbers():\n",
    "    print(i,end=' ')"
   ]
  },
  {
   "cell_type": "markdown",
   "id": "42646a71",
   "metadata": {},
   "source": [
    "# 2.Write a program to compute the frequency of the words from the input. The output should output after sorting the key alphanumerically."
   ]
  },
  {
   "cell_type": "code",
   "execution_count": 4,
   "id": "9a3b5928",
   "metadata": {},
   "outputs": [
    {
     "name": "stdout",
     "output_type": "stream",
     "text": [
      "Enter the Input String: the man has two man\n",
      "has:1 man:2 the:1 two:1 "
     ]
    }
   ],
   "source": [
    "def checkFreq():\n",
    "    user = input(\"Enter the Input String: \")\n",
    "    freq = {}\n",
    "    for i in user.split(\" \"):\n",
    "        if(freq.get(i) == None):\n",
    "            freq[i] = 1\n",
    "        else:\n",
    "            freq[i] += 1 \n",
    "    for i in sorted(freq):\n",
    "        print(f'{i}:{freq[i]}',end=\" \")\n",
    "checkFreq()"
   ]
  },
  {
   "cell_type": "markdown",
   "id": "1e1f5a65",
   "metadata": {},
   "source": [
    "# 3.Define a class Person and its two child classes: Male and Female. All classes have a method \"getGender\" which can print \"Male\" for Male class and \"Female\" for Female class. ?"
   ]
  },
  {
   "cell_type": "code",
   "execution_count": 1,
   "id": "6332da0c",
   "metadata": {},
   "outputs": [
    {
     "name": "stdout",
     "output_type": "stream",
     "text": [
      "Male\n",
      "Female\n"
     ]
    }
   ],
   "source": [
    "class Person():\n",
    "    def getGender():\n",
    "        pass\n",
    "    \n",
    "class Male(Person):\n",
    "    def getGender():\n",
    "        print(\"Male\")\n",
    "        \n",
    "class Female(Person):\n",
    "    def getGender():\n",
    "        print(\"Female\")\n",
    "\n",
    "Male.getGender()\n",
    "Female.getGender()"
   ]
  },
  {
   "cell_type": "markdown",
   "id": "65ec23b1",
   "metadata": {},
   "source": [
    "# 4.Please write a program to generate all sentences where subject is in [\"I\", \"You\"] and verb is in [\"Play\", \"Love\"] and the object is in [\"Hockey\",\"Football\"] ?"
   ]
  },
  {
   "cell_type": "code",
   "execution_count": 2,
   "id": "06401e95",
   "metadata": {},
   "outputs": [
    {
     "name": "stdout",
     "output_type": "stream",
     "text": [
      "I Play Hocky\n",
      "I Play Football\n",
      "I Love Hocky\n",
      "I Love Football\n",
      "You Play Hocky\n",
      "You Play Football\n",
      "You Love Hocky\n",
      "You Love Football\n"
     ]
    }
   ],
   "source": [
    "def GenerateSentences():\n",
    "    subject=[\"I\",\"You\"]\n",
    "    verb=[\"Play\",\"Love\"]\n",
    "    Object=[\"Hocky\",\"Football\"]\n",
    "    \n",
    "    for i in subject:\n",
    "        for j in verb:\n",
    "            for k in Object:\n",
    "                print(f'{i} {j} {k}')\n",
    "                \n",
    "                \n",
    "GenerateSentences()\n",
    "        "
   ]
  },
  {
   "cell_type": "markdown",
   "id": "11b31bfd",
   "metadata": {},
   "source": [
    "# 5.Please write a program to compress and decompress the string \"hello world!hello world!hello world!hello world!\" ?"
   ]
  },
  {
   "cell_type": "code",
   "execution_count": 10,
   "id": "4534a022",
   "metadata": {},
   "outputs": [
    {
     "name": "stdout",
     "output_type": "stream",
     "text": [
      "hel2o world!hel2o world!hel2o world!hel2o world!\n",
      "hello world!hello world!hello world!hello world!\n",
      "Hey hel2o i am new here\n",
      "Hey hello i am new here\n"
     ]
    }
   ],
   "source": [
    "def compress(in_string):\n",
    "    out = in_string[0]\n",
    "    count = 1\n",
    "    for i in range(len(in_string)-1):\n",
    "        if in_string[i] == in_string[i+1]:\n",
    "            count +=1\n",
    "        else:\n",
    "            if count > 1:\n",
    "                out += str(count)\n",
    "            out += in_string[i+1]\n",
    "            count = 1\n",
    "    if count > 1:\n",
    "        out += str(count)            \n",
    "    print(out)\n",
    "\n",
    "\n",
    "def decompress(in_string):\n",
    "    out = ''\n",
    "    for i in range(len(in_string)):\n",
    "        if in_string[i].isdigit():\n",
    "            out += out[-1]*(int(in_string[i])-1)\n",
    "        else:\n",
    "            out += in_string[i]\n",
    "    print(out)\n",
    "    \n",
    "        \n",
    "compress(\"hello world!hello world!hello world!hello world!\")\n",
    "decompress(\"hel2o world!hel2o world!hel2o world!hel2o world!\")\n",
    "\n",
    "compress('Hey hello i am new here')\n",
    "decompress('Hey hel2o i am new here')\n",
    "    "
   ]
  },
  {
   "cell_type": "markdown",
   "id": "8fead229",
   "metadata": {},
   "source": [
    "# 6.Please write a binary search function which searches an item in a sorted list. The function should return the index of element to be searched in the list ?"
   ]
  },
  {
   "cell_type": "code",
   "execution_count": null,
   "id": "1021ad58",
   "metadata": {},
   "outputs": [
    {
     "name": "stdout",
     "output_type": "stream",
     "text": [
      "Given string is in place  4\n"
     ]
    }
   ],
   "source": [
    "sortedList = [1,3,5,6,8,9,11,14,15]\n",
    "def binary_searching(in_list,in_num):\n",
    "    min = 0\n",
    "    max = len(in_list)-1\n",
    "    while min <= max:\n",
    "        mid = min+max//2\n",
    "        if in_list[mid] < in_num:\n",
    "            low = mid+1\n",
    "        elif in_list[mid] > in_num:\n",
    "            high = mid-1\n",
    "        else:\n",
    "            return mid\n",
    "    else:\n",
    "        return 'Input Element not in the list'\n",
    "    \n",
    "print(\"Given string is in place \",binary_searching(sortedList,8))\n",
    "print(binary_searching(sortedList,10))"
   ]
  },
  {
   "cell_type": "code",
   "execution_count": null,
   "id": "44ef17b8",
   "metadata": {},
   "outputs": [],
   "source": []
  }
 ],
 "metadata": {
  "kernelspec": {
   "display_name": "Python 3 (ipykernel)",
   "language": "python",
   "name": "python3"
  },
  "language_info": {
   "codemirror_mode": {
    "name": "ipython",
    "version": 3
   },
   "file_extension": ".py",
   "mimetype": "text/x-python",
   "name": "python",
   "nbconvert_exporter": "python",
   "pygments_lexer": "ipython3",
   "version": "3.9.7"
  }
 },
 "nbformat": 4,
 "nbformat_minor": 5
}
